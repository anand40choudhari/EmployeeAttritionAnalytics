{
 "cells": [
  {
   "cell_type": "code",
   "execution_count": 1,
   "metadata": {},
   "outputs": [],
   "source": [
    "import numpy as np\n",
    "import pandas as pd\n",
    "import matplotlib.pyplot as plt\n",
    "import seaborn as sns\n",
    "import warnings\n",
    "warnings.filterwarnings('ignore')"
   ]
  },
  {
   "cell_type": "code",
   "execution_count": 2,
   "metadata": {},
   "outputs": [],
   "source": [
    "dataset = pd.read_csv(r\"staff_utlz_latest_16-17_masked.csv\")"
   ]
  },
  {
   "cell_type": "code",
   "execution_count": 3,
   "metadata": {},
   "outputs": [],
   "source": [
    "pd.options.display.max_columns = None\n",
    "pd.options.display.max_rows = None"
   ]
  },
  {
   "cell_type": "code",
   "execution_count": 4,
   "metadata": {},
   "outputs": [
    {
     "data": {
      "text/html": [
       "<div>\n",
       "<style scoped>\n",
       "    .dataframe tbody tr th:only-of-type {\n",
       "        vertical-align: middle;\n",
       "    }\n",
       "\n",
       "    .dataframe tbody tr th {\n",
       "        vertical-align: top;\n",
       "    }\n",
       "\n",
       "    .dataframe thead th {\n",
       "        text-align: right;\n",
       "    }\n",
       "</style>\n",
       "<table border=\"1\" class=\"dataframe\">\n",
       "  <thead>\n",
       "    <tr style=\"text-align: right;\">\n",
       "      <th></th>\n",
       "      <th>Unnamed: 0</th>\n",
       "      <th>Unnamed: 1</th>\n",
       "      <th>Unnamed: 2</th>\n",
       "      <th>Unnamed: 3</th>\n",
       "      <th>Unnamed: 4</th>\n",
       "      <th>Unnamed: 5</th>\n",
       "      <th>Unnamed: 6</th>\n",
       "      <th>Unnamed: 7</th>\n",
       "      <th>Unnamed: 8</th>\n",
       "      <th>Unnamed: 9</th>\n",
       "      <th>Month Year</th>\n",
       "      <th>Apr 2016</th>\n",
       "      <th>Apr 2016.1</th>\n",
       "      <th>Apr 2016.2</th>\n",
       "      <th>Apr 2016.3</th>\n",
       "      <th>Apr 2016.4</th>\n",
       "      <th>Apr 2016.5</th>\n",
       "      <th>Apr 2016.6</th>\n",
       "      <th>Apr 2016.7</th>\n",
       "      <th>May 2016</th>\n",
       "      <th>May 2016.1</th>\n",
       "      <th>May 2016.2</th>\n",
       "      <th>May 2016.3</th>\n",
       "      <th>May 2016.4</th>\n",
       "      <th>May 2016.5</th>\n",
       "      <th>May 2016.6</th>\n",
       "      <th>May 2016.7</th>\n",
       "      <th>Jun 2016</th>\n",
       "      <th>Jun 2016.1</th>\n",
       "      <th>Jun 2016.2</th>\n",
       "      <th>Jun 2016.3</th>\n",
       "      <th>Jun 2016.4</th>\n",
       "      <th>Jun 2016.5</th>\n",
       "      <th>Jun 2016.6</th>\n",
       "      <th>Jun 2016.7</th>\n",
       "      <th>Jul 2016</th>\n",
       "      <th>Jul 2016.1</th>\n",
       "      <th>Jul 2016.2</th>\n",
       "      <th>Jul 2016.3</th>\n",
       "      <th>Jul 2016.4</th>\n",
       "      <th>Jul 2016.5</th>\n",
       "      <th>Jul 2016.6</th>\n",
       "      <th>Jul 2016.7</th>\n",
       "      <th>Aug 2016</th>\n",
       "      <th>Aug 2016.1</th>\n",
       "      <th>Aug 2016.2</th>\n",
       "      <th>Aug 2016.3</th>\n",
       "      <th>Aug 2016.4</th>\n",
       "      <th>Aug 2016.5</th>\n",
       "      <th>Aug 2016.6</th>\n",
       "      <th>Aug 2016.7</th>\n",
       "      <th>Sep 2016</th>\n",
       "      <th>Sep 2016.1</th>\n",
       "      <th>Sep 2016.2</th>\n",
       "      <th>Sep 2016.3</th>\n",
       "      <th>Sep 2016.4</th>\n",
       "      <th>Sep 2016.5</th>\n",
       "      <th>Sep 2016.6</th>\n",
       "      <th>Sep 2016.7</th>\n",
       "      <th>Oct 2016</th>\n",
       "      <th>Oct 2016.1</th>\n",
       "      <th>Oct 2016.2</th>\n",
       "      <th>Oct 2016.3</th>\n",
       "      <th>Oct 2016.4</th>\n",
       "      <th>Oct 2016.5</th>\n",
       "      <th>Oct 2016.6</th>\n",
       "      <th>Oct 2016.7</th>\n",
       "      <th>Nov 2016</th>\n",
       "      <th>Nov 2016.1</th>\n",
       "      <th>Nov 2016.2</th>\n",
       "      <th>Nov 2016.3</th>\n",
       "      <th>Nov 2016.4</th>\n",
       "      <th>Nov 2016.5</th>\n",
       "      <th>Nov 2016.6</th>\n",
       "      <th>Nov 2016.7</th>\n",
       "      <th>Dec 2016</th>\n",
       "      <th>Dec 2016.1</th>\n",
       "      <th>Dec 2016.2</th>\n",
       "      <th>Dec 2016.3</th>\n",
       "      <th>Dec 2016.4</th>\n",
       "      <th>Dec 2016.5</th>\n",
       "      <th>Dec 2016.6</th>\n",
       "      <th>Dec 2016.7</th>\n",
       "      <th>Jan 2017</th>\n",
       "      <th>Jan 2017.1</th>\n",
       "      <th>Jan 2017.2</th>\n",
       "      <th>Jan 2017.3</th>\n",
       "      <th>Jan 2017.4</th>\n",
       "      <th>Jan 2017.5</th>\n",
       "      <th>Jan 2017.6</th>\n",
       "      <th>Jan 2017.7</th>\n",
       "      <th>Feb 2017</th>\n",
       "      <th>Feb 2017.1</th>\n",
       "      <th>Feb 2017.2</th>\n",
       "      <th>Feb 2017.3</th>\n",
       "      <th>Feb 2017.4</th>\n",
       "      <th>Feb 2017.5</th>\n",
       "      <th>Feb 2017.6</th>\n",
       "      <th>Feb 2017.7</th>\n",
       "      <th>Mar 2017</th>\n",
       "      <th>Mar 2017.1</th>\n",
       "      <th>Mar 2017.2</th>\n",
       "      <th>Mar 2017.3</th>\n",
       "      <th>Mar 2017.4</th>\n",
       "      <th>Mar 2017.5</th>\n",
       "      <th>Mar 2017.6</th>\n",
       "      <th>Mar 2017.7</th>\n",
       "      <th>Total</th>\n",
       "      <th>Total.1</th>\n",
       "      <th>Total.2</th>\n",
       "      <th>Total.3</th>\n",
       "      <th>Total.4</th>\n",
       "      <th>Total.5</th>\n",
       "      <th>Total.6</th>\n",
       "      <th>Total.7</th>\n",
       "    </tr>\n",
       "  </thead>\n",
       "  <tbody>\n",
       "    <tr>\n",
       "      <th>0</th>\n",
       "      <td>Employee No</td>\n",
       "      <td>Profit Center</td>\n",
       "      <td>Employee Name</td>\n",
       "      <td>Employee Position</td>\n",
       "      <td>Employee Location</td>\n",
       "      <td>People Group</td>\n",
       "      <td>Employee Category</td>\n",
       "      <td>Supervisor name</td>\n",
       "      <td>Join Date</td>\n",
       "      <td>Current Status</td>\n",
       "      <td>Termination Date</td>\n",
       "      <td>Total Hours</td>\n",
       "      <td>Total Available Hours</td>\n",
       "      <td>Work Hours</td>\n",
       "      <td>Leave Hours</td>\n",
       "      <td>Training Hours</td>\n",
       "      <td>BD Hours</td>\n",
       "      <td>NC Hours</td>\n",
       "      <td>Utilization%</td>\n",
       "      <td>Total Hours</td>\n",
       "      <td>Total Available Hours</td>\n",
       "      <td>Work Hours</td>\n",
       "      <td>Leave Hours</td>\n",
       "      <td>Training Hours</td>\n",
       "      <td>BD Hours</td>\n",
       "      <td>NC Hours</td>\n",
       "      <td>Utilization%</td>\n",
       "      <td>Total Hours</td>\n",
       "      <td>Total Available Hours</td>\n",
       "      <td>Work Hours</td>\n",
       "      <td>Leave Hours</td>\n",
       "      <td>Training Hours</td>\n",
       "      <td>BD Hours</td>\n",
       "      <td>NC Hours</td>\n",
       "      <td>Utilization%</td>\n",
       "      <td>Total Hours</td>\n",
       "      <td>Total Available Hours</td>\n",
       "      <td>Work Hours</td>\n",
       "      <td>Leave Hours</td>\n",
       "      <td>Training Hours</td>\n",
       "      <td>BD Hours</td>\n",
       "      <td>NC Hours</td>\n",
       "      <td>Utilization%</td>\n",
       "      <td>Total Hours</td>\n",
       "      <td>Total Available Hours</td>\n",
       "      <td>Work Hours</td>\n",
       "      <td>Leave Hours</td>\n",
       "      <td>Training Hours</td>\n",
       "      <td>BD Hours</td>\n",
       "      <td>NC Hours</td>\n",
       "      <td>Utilization%</td>\n",
       "      <td>Total Hours</td>\n",
       "      <td>Total Available Hours</td>\n",
       "      <td>Work Hours</td>\n",
       "      <td>Leave Hours</td>\n",
       "      <td>Training Hours</td>\n",
       "      <td>BD Hours</td>\n",
       "      <td>NC Hours</td>\n",
       "      <td>Utilization%</td>\n",
       "      <td>Total Hours</td>\n",
       "      <td>Total Available Hours</td>\n",
       "      <td>Work Hours</td>\n",
       "      <td>Leave Hours</td>\n",
       "      <td>Training Hours</td>\n",
       "      <td>BD Hours</td>\n",
       "      <td>NC Hours</td>\n",
       "      <td>Utilization%</td>\n",
       "      <td>Total Hours</td>\n",
       "      <td>Total Available Hours</td>\n",
       "      <td>Work Hours</td>\n",
       "      <td>Leave Hours</td>\n",
       "      <td>Training Hours</td>\n",
       "      <td>BD Hours</td>\n",
       "      <td>NC Hours</td>\n",
       "      <td>Utilization%</td>\n",
       "      <td>Total Hours</td>\n",
       "      <td>Total Available Hours</td>\n",
       "      <td>Work Hours</td>\n",
       "      <td>Leave Hours</td>\n",
       "      <td>Training Hours</td>\n",
       "      <td>BD Hours</td>\n",
       "      <td>NC Hours</td>\n",
       "      <td>Utilization%</td>\n",
       "      <td>Total Hours</td>\n",
       "      <td>Total Available Hours</td>\n",
       "      <td>Work Hours</td>\n",
       "      <td>Leave Hours</td>\n",
       "      <td>Training Hours</td>\n",
       "      <td>BD Hours</td>\n",
       "      <td>NC Hours</td>\n",
       "      <td>Utilization%</td>\n",
       "      <td>Total Hours</td>\n",
       "      <td>Total Available Hours</td>\n",
       "      <td>Work Hours</td>\n",
       "      <td>Leave Hours</td>\n",
       "      <td>Training Hours</td>\n",
       "      <td>BD Hours</td>\n",
       "      <td>NC Hours</td>\n",
       "      <td>Utilization%</td>\n",
       "      <td>Total Hours</td>\n",
       "      <td>Total Available Hours</td>\n",
       "      <td>Work Hours</td>\n",
       "      <td>Leave Hours</td>\n",
       "      <td>Training Hours</td>\n",
       "      <td>BD Hours</td>\n",
       "      <td>NC Hours</td>\n",
       "      <td>Utilization%</td>\n",
       "      <td>Total Hours</td>\n",
       "      <td>Total Available Hours</td>\n",
       "      <td>Work Hours</td>\n",
       "      <td>Leave Hours</td>\n",
       "      <td>Training Hours</td>\n",
       "      <td>BD Hours</td>\n",
       "      <td>NC Hours</td>\n",
       "      <td>Utilization%</td>\n",
       "    </tr>\n",
       "    <tr>\n",
       "      <th>1</th>\n",
       "      <td>1</td>\n",
       "      <td>PC - 1</td>\n",
       "      <td>Rochette Jilleen</td>\n",
       "      <td>Level 2</td>\n",
       "      <td>Location 3</td>\n",
       "      <td>Client Service Staff</td>\n",
       "      <td>Level 1/2</td>\n",
       "      <td>Idalina Lauraine</td>\n",
       "      <td>30 September 2000</td>\n",
       "      <td>Active</td>\n",
       "      <td>-</td>\n",
       "      <td>168</td>\n",
       "      <td>160</td>\n",
       "      <td>55.00</td>\n",
       "      <td>8.00</td>\n",
       "      <td>0.00</td>\n",
       "      <td>102.00</td>\n",
       "      <td>0.00</td>\n",
       "      <td>34.38%</td>\n",
       "      <td>176</td>\n",
       "      <td>168</td>\n",
       "      <td>32.00</td>\n",
       "      <td>8.00</td>\n",
       "      <td>0.00</td>\n",
       "      <td>168.00</td>\n",
       "      <td>8.00</td>\n",
       "      <td>19.05%</td>\n",
       "      <td>176</td>\n",
       "      <td>152</td>\n",
       "      <td>12.00</td>\n",
       "      <td>24.00</td>\n",
       "      <td>0.00</td>\n",
       "      <td>44.00</td>\n",
       "      <td>0.00</td>\n",
       "      <td>7.89%</td>\n",
       "      <td>168</td>\n",
       "      <td>134</td>\n",
       "      <td>69.00</td>\n",
       "      <td>32.00</td>\n",
       "      <td>2.00</td>\n",
       "      <td>153.00</td>\n",
       "      <td>24.00</td>\n",
       "      <td>51.49%</td>\n",
       "      <td>184</td>\n",
       "      <td>168</td>\n",
       "      <td>20.00</td>\n",
       "      <td>16.00</td>\n",
       "      <td>0.00</td>\n",
       "      <td>84.00</td>\n",
       "      <td>0.00</td>\n",
       "      <td>11.90%</td>\n",
       "      <td>176</td>\n",
       "      <td>116</td>\n",
       "      <td>65.00</td>\n",
       "      <td>28.00</td>\n",
       "      <td>32.00</td>\n",
       "      <td>123.00</td>\n",
       "      <td>0.00</td>\n",
       "      <td>56.03%</td>\n",
       "      <td>168</td>\n",
       "      <td>150</td>\n",
       "      <td>53.00</td>\n",
       "      <td>12.00</td>\n",
       "      <td>6.00</td>\n",
       "      <td>91.00</td>\n",
       "      <td>0.00</td>\n",
       "      <td>35.33%</td>\n",
       "      <td>176</td>\n",
       "      <td>152</td>\n",
       "      <td>37.00</td>\n",
       "      <td>24.00</td>\n",
       "      <td>0.00</td>\n",
       "      <td>59.00</td>\n",
       "      <td>0.00</td>\n",
       "      <td>24.34%</td>\n",
       "      <td>176</td>\n",
       "      <td>136</td>\n",
       "      <td>84.00</td>\n",
       "      <td>40.00</td>\n",
       "      <td>0.00</td>\n",
       "      <td>126.00</td>\n",
       "      <td>0.00</td>\n",
       "      <td>61.76%</td>\n",
       "      <td>176</td>\n",
       "      <td>144</td>\n",
       "      <td>68.00</td>\n",
       "      <td>8.00</td>\n",
       "      <td>24.00</td>\n",
       "      <td>67.00</td>\n",
       "      <td>0.00</td>\n",
       "      <td>47.22%</td>\n",
       "      <td>160</td>\n",
       "      <td>147</td>\n",
       "      <td>49.00</td>\n",
       "      <td>8.00</td>\n",
       "      <td>5.00</td>\n",
       "      <td>114.00</td>\n",
       "      <td>0.00</td>\n",
       "      <td>33.33%</td>\n",
       "      <td>184</td>\n",
       "      <td>175</td>\n",
       "      <td>92.00</td>\n",
       "      <td>8.00</td>\n",
       "      <td>1.00</td>\n",
       "      <td>61.00</td>\n",
       "      <td>24.00</td>\n",
       "      <td>52.57%</td>\n",
       "      <td>2,088</td>\n",
       "      <td>1802</td>\n",
       "      <td>636.00</td>\n",
       "      <td>216.00</td>\n",
       "      <td>70.00</td>\n",
       "      <td>1,192.00</td>\n",
       "      <td>56.00</td>\n",
       "      <td>35.29%</td>\n",
       "    </tr>\n",
       "    <tr>\n",
       "      <th>2</th>\n",
       "      <td>2</td>\n",
       "      <td>PC - 2</td>\n",
       "      <td>Daryl Natalina</td>\n",
       "      <td>Level 2</td>\n",
       "      <td>Location 7</td>\n",
       "      <td>Client Service Staff</td>\n",
       "      <td>Level 1/2</td>\n",
       "      <td>Idalina Lauraine</td>\n",
       "      <td>31 May 1999</td>\n",
       "      <td>Active</td>\n",
       "      <td>-</td>\n",
       "      <td>168</td>\n",
       "      <td>152</td>\n",
       "      <td>54.00</td>\n",
       "      <td>8.00</td>\n",
       "      <td>8.00</td>\n",
       "      <td>44.00</td>\n",
       "      <td>74.00</td>\n",
       "      <td>35.53%</td>\n",
       "      <td>176</td>\n",
       "      <td>152</td>\n",
       "      <td>24.00</td>\n",
       "      <td>24.00</td>\n",
       "      <td>0.00</td>\n",
       "      <td>65.00</td>\n",
       "      <td>67.00</td>\n",
       "      <td>15.79%</td>\n",
       "      <td>176</td>\n",
       "      <td>172</td>\n",
       "      <td>86.00</td>\n",
       "      <td>4.00</td>\n",
       "      <td>0.00</td>\n",
       "      <td>47.00</td>\n",
       "      <td>50.00</td>\n",
       "      <td>50.00%</td>\n",
       "      <td>168</td>\n",
       "      <td>144</td>\n",
       "      <td>27.00</td>\n",
       "      <td>8.00</td>\n",
       "      <td>16.00</td>\n",
       "      <td>63.00</td>\n",
       "      <td>79.00</td>\n",
       "      <td>18.75%</td>\n",
       "      <td>184</td>\n",
       "      <td>168</td>\n",
       "      <td>34.00</td>\n",
       "      <td>16.00</td>\n",
       "      <td>0.00</td>\n",
       "      <td>68.00</td>\n",
       "      <td>70.00</td>\n",
       "      <td>20.24%</td>\n",
       "      <td>176</td>\n",
       "      <td>138</td>\n",
       "      <td>26.00</td>\n",
       "      <td>12.00</td>\n",
       "      <td>26.00</td>\n",
       "      <td>61.00</td>\n",
       "      <td>66.50</td>\n",
       "      <td>18.84%</td>\n",
       "      <td>168</td>\n",
       "      <td>160</td>\n",
       "      <td>11.00</td>\n",
       "      <td>8.00</td>\n",
       "      <td>0.00</td>\n",
       "      <td>87.00</td>\n",
       "      <td>66.00</td>\n",
       "      <td>6.88%</td>\n",
       "      <td>176</td>\n",
       "      <td>160</td>\n",
       "      <td>28.00</td>\n",
       "      <td>16.00</td>\n",
       "      <td>0.00</td>\n",
       "      <td>70.00</td>\n",
       "      <td>73.00</td>\n",
       "      <td>17.50%</td>\n",
       "      <td>176</td>\n",
       "      <td>136</td>\n",
       "      <td>54.00</td>\n",
       "      <td>40.00</td>\n",
       "      <td>0.00</td>\n",
       "      <td>41.00</td>\n",
       "      <td>41.00</td>\n",
       "      <td>39.71%</td>\n",
       "      <td>176</td>\n",
       "      <td>164</td>\n",
       "      <td>29.00</td>\n",
       "      <td>12.00</td>\n",
       "      <td>0.00</td>\n",
       "      <td>67.00</td>\n",
       "      <td>70.00</td>\n",
       "      <td>17.68%</td>\n",
       "      <td>160</td>\n",
       "      <td>152</td>\n",
       "      <td>0.00</td>\n",
       "      <td>8.00</td>\n",
       "      <td>0.00</td>\n",
       "      <td>76.00</td>\n",
       "      <td>76.00</td>\n",
       "      <td>0.00%</td>\n",
       "      <td>184</td>\n",
       "      <td>184</td>\n",
       "      <td>182.50</td>\n",
       "      <td>0.00</td>\n",
       "      <td>0.00</td>\n",
       "      <td>5.00</td>\n",
       "      <td>1.50</td>\n",
       "      <td>99.18%</td>\n",
       "      <td>2,088</td>\n",
       "      <td>1882</td>\n",
       "      <td>555.50</td>\n",
       "      <td>156.00</td>\n",
       "      <td>50.00</td>\n",
       "      <td>694.00</td>\n",
       "      <td>734.00</td>\n",
       "      <td>29.52%</td>\n",
       "    </tr>\n",
       "    <tr>\n",
       "      <th>3</th>\n",
       "      <td>3</td>\n",
       "      <td>PC - 2</td>\n",
       "      <td>Annnora Gabrielle</td>\n",
       "      <td>Level 2</td>\n",
       "      <td>Location 7</td>\n",
       "      <td>Client Service Staff</td>\n",
       "      <td>Level 1/2</td>\n",
       "      <td>Idalina Lauraine</td>\n",
       "      <td>31 January 2001</td>\n",
       "      <td>Active</td>\n",
       "      <td>-</td>\n",
       "      <td>168</td>\n",
       "      <td>144</td>\n",
       "      <td>59.00</td>\n",
       "      <td>16.00</td>\n",
       "      <td>8.00</td>\n",
       "      <td>43.00</td>\n",
       "      <td>60.00</td>\n",
       "      <td>40.97%</td>\n",
       "      <td>176</td>\n",
       "      <td>184</td>\n",
       "      <td>52.50</td>\n",
       "      <td>-8.00</td>\n",
       "      <td>0.00</td>\n",
       "      <td>69.50</td>\n",
       "      <td>62.00</td>\n",
       "      <td>28.53%</td>\n",
       "      <td>176</td>\n",
       "      <td>168</td>\n",
       "      <td>43.00</td>\n",
       "      <td>8.00</td>\n",
       "      <td>0.00</td>\n",
       "      <td>61.00</td>\n",
       "      <td>64.00</td>\n",
       "      <td>25.60%</td>\n",
       "      <td>168</td>\n",
       "      <td>167</td>\n",
       "      <td>85.00</td>\n",
       "      <td>0.00</td>\n",
       "      <td>1.00</td>\n",
       "      <td>30.50</td>\n",
       "      <td>61.50</td>\n",
       "      <td>50.90%</td>\n",
       "      <td>184</td>\n",
       "      <td>160</td>\n",
       "      <td>119.00</td>\n",
       "      <td>24.00</td>\n",
       "      <td>0.00</td>\n",
       "      <td>34.00</td>\n",
       "      <td>34.00</td>\n",
       "      <td>74.38%</td>\n",
       "      <td>176</td>\n",
       "      <td>152</td>\n",
       "      <td>40.50</td>\n",
       "      <td>0.00</td>\n",
       "      <td>24.00</td>\n",
       "      <td>55.50</td>\n",
       "      <td>67.00</td>\n",
       "      <td>26.64%</td>\n",
       "      <td>168</td>\n",
       "      <td>152</td>\n",
       "      <td>62.50</td>\n",
       "      <td>8.00</td>\n",
       "      <td>8.00</td>\n",
       "      <td>43.00</td>\n",
       "      <td>40.50</td>\n",
       "      <td>41.12%</td>\n",
       "      <td>176</td>\n",
       "      <td>157.5</td>\n",
       "      <td>48.00</td>\n",
       "      <td>16.00</td>\n",
       "      <td>2.50</td>\n",
       "      <td>64.00</td>\n",
       "      <td>54.50</td>\n",
       "      <td>30.48%</td>\n",
       "      <td>176</td>\n",
       "      <td>136</td>\n",
       "      <td>124.00</td>\n",
       "      <td>40.00</td>\n",
       "      <td>0.00</td>\n",
       "      <td>8.00</td>\n",
       "      <td>16.00</td>\n",
       "      <td>91.18%</td>\n",
       "      <td>176</td>\n",
       "      <td>152</td>\n",
       "      <td>93.50</td>\n",
       "      <td>24.00</td>\n",
       "      <td>0.00</td>\n",
       "      <td>49.00</td>\n",
       "      <td>26.50</td>\n",
       "      <td>61.51%</td>\n",
       "      <td>160</td>\n",
       "      <td>152</td>\n",
       "      <td>57.50</td>\n",
       "      <td>8.00</td>\n",
       "      <td>0.00</td>\n",
       "      <td>52.00</td>\n",
       "      <td>49.50</td>\n",
       "      <td>37.83%</td>\n",
       "      <td>184</td>\n",
       "      <td>174</td>\n",
       "      <td>220.00</td>\n",
       "      <td>8.00</td>\n",
       "      <td>2.00</td>\n",
       "      <td>-2.50</td>\n",
       "      <td>14.00</td>\n",
       "      <td>126.44%</td>\n",
       "      <td>2,088</td>\n",
       "      <td>1898.5</td>\n",
       "      <td>1,004.50</td>\n",
       "      <td>144.00</td>\n",
       "      <td>45.50</td>\n",
       "      <td>507.00</td>\n",
       "      <td>549.50</td>\n",
       "      <td>52.91%</td>\n",
       "    </tr>\n",
       "    <tr>\n",
       "      <th>4</th>\n",
       "      <td>4</td>\n",
       "      <td>PC - 3</td>\n",
       "      <td>Barbee Joey</td>\n",
       "      <td>Level 2</td>\n",
       "      <td>Location 1</td>\n",
       "      <td>Client Service Staff</td>\n",
       "      <td>Level 1/2</td>\n",
       "      <td>Idalina Lauraine</td>\n",
       "      <td>30 September 2000</td>\n",
       "      <td>Active</td>\n",
       "      <td>-</td>\n",
       "      <td>168</td>\n",
       "      <td>152</td>\n",
       "      <td>17.00</td>\n",
       "      <td>16.00</td>\n",
       "      <td>0.00</td>\n",
       "      <td>127.00</td>\n",
       "      <td>8.00</td>\n",
       "      <td>11.18%</td>\n",
       "      <td>176</td>\n",
       "      <td>160</td>\n",
       "      <td>21.00</td>\n",
       "      <td>0.00</td>\n",
       "      <td>16.00</td>\n",
       "      <td>115.00</td>\n",
       "      <td>8.00</td>\n",
       "      <td>13.13%</td>\n",
       "      <td>176</td>\n",
       "      <td>176</td>\n",
       "      <td>27.00</td>\n",
       "      <td>0.00</td>\n",
       "      <td>0.00</td>\n",
       "      <td>141.00</td>\n",
       "      <td>24.00</td>\n",
       "      <td>15.34%</td>\n",
       "      <td>168</td>\n",
       "      <td>151.5</td>\n",
       "      <td>52.00</td>\n",
       "      <td>10.00</td>\n",
       "      <td>6.50</td>\n",
       "      <td>91.50</td>\n",
       "      <td>38.00</td>\n",
       "      <td>34.32%</td>\n",
       "      <td>184</td>\n",
       "      <td>152</td>\n",
       "      <td>19.00</td>\n",
       "      <td>32.00</td>\n",
       "      <td>0.00</td>\n",
       "      <td>117.00</td>\n",
       "      <td>16.00</td>\n",
       "      <td>12.50%</td>\n",
       "      <td>176</td>\n",
       "      <td>118</td>\n",
       "      <td>9.00</td>\n",
       "      <td>54.00</td>\n",
       "      <td>4.00</td>\n",
       "      <td>59.00</td>\n",
       "      <td>58.00</td>\n",
       "      <td>7.63%</td>\n",
       "      <td>168</td>\n",
       "      <td>152</td>\n",
       "      <td>5.00</td>\n",
       "      <td>16.00</td>\n",
       "      <td>0.00</td>\n",
       "      <td>139.00</td>\n",
       "      <td>8.00</td>\n",
       "      <td>3.29%</td>\n",
       "      <td>176</td>\n",
       "      <td>160</td>\n",
       "      <td>11.00</td>\n",
       "      <td>16.00</td>\n",
       "      <td>0.00</td>\n",
       "      <td>93.00</td>\n",
       "      <td>40.00</td>\n",
       "      <td>6.88%</td>\n",
       "      <td>176</td>\n",
       "      <td>136</td>\n",
       "      <td>2.00</td>\n",
       "      <td>40.00</td>\n",
       "      <td>0.00</td>\n",
       "      <td>158.00</td>\n",
       "      <td>0.00</td>\n",
       "      <td>1.47%</td>\n",
       "      <td>176</td>\n",
       "      <td>159.5</td>\n",
       "      <td>24.00</td>\n",
       "      <td>16.00</td>\n",
       "      <td>0.50</td>\n",
       "      <td>122.50</td>\n",
       "      <td>0.00</td>\n",
       "      <td>15.05%</td>\n",
       "      <td>160</td>\n",
       "      <td>158</td>\n",
       "      <td>33.00</td>\n",
       "      <td>0.00</td>\n",
       "      <td>2.00</td>\n",
       "      <td>102.00</td>\n",
       "      <td>39.00</td>\n",
       "      <td>20.89%</td>\n",
       "      <td>184</td>\n",
       "      <td>176</td>\n",
       "      <td>53.00</td>\n",
       "      <td>8.00</td>\n",
       "      <td>0.00</td>\n",
       "      <td>117.00</td>\n",
       "      <td>16.00</td>\n",
       "      <td>30.11%</td>\n",
       "      <td>2,088</td>\n",
       "      <td>1851</td>\n",
       "      <td>273.00</td>\n",
       "      <td>208.00</td>\n",
       "      <td>29.00</td>\n",
       "      <td>1,382.00</td>\n",
       "      <td>255.00</td>\n",
       "      <td>14.75%</td>\n",
       "    </tr>\n",
       "  </tbody>\n",
       "</table>\n",
       "</div>"
      ],
      "text/plain": [
       "    Unnamed: 0     Unnamed: 1         Unnamed: 2         Unnamed: 3  \\\n",
       "0  Employee No  Profit Center      Employee Name  Employee Position   \n",
       "1            1         PC - 1   Rochette Jilleen            Level 2   \n",
       "2            2         PC - 2     Daryl Natalina            Level 2   \n",
       "3            3         PC - 2  Annnora Gabrielle            Level 2   \n",
       "4            4         PC - 3        Barbee Joey            Level 2   \n",
       "\n",
       "          Unnamed: 4            Unnamed: 5         Unnamed: 6  \\\n",
       "0  Employee Location          People Group  Employee Category   \n",
       "1         Location 3  Client Service Staff          Level 1/2   \n",
       "2         Location 7  Client Service Staff          Level 1/2   \n",
       "3         Location 7  Client Service Staff          Level 1/2   \n",
       "4         Location 1  Client Service Staff          Level 1/2   \n",
       "\n",
       "         Unnamed: 7         Unnamed: 8      Unnamed: 9        Month Year  \\\n",
       "0   Supervisor name          Join Date  Current Status  Termination Date   \n",
       "1  Idalina Lauraine  30 September 2000          Active                 -   \n",
       "2  Idalina Lauraine        31 May 1999          Active                 -   \n",
       "3  Idalina Lauraine    31 January 2001          Active                 -   \n",
       "4  Idalina Lauraine  30 September 2000          Active                 -   \n",
       "\n",
       "      Apr 2016             Apr 2016.1  Apr 2016.2   Apr 2016.3  \\\n",
       "0  Total Hours  Total Available Hours  Work Hours  Leave Hours   \n",
       "1          168                    160       55.00         8.00   \n",
       "2          168                    152       54.00         8.00   \n",
       "3          168                    144       59.00        16.00   \n",
       "4          168                    152       17.00        16.00   \n",
       "\n",
       "       Apr 2016.4 Apr 2016.5 Apr 2016.6    Apr 2016.7     May 2016  \\\n",
       "0  Training Hours   BD Hours   NC Hours  Utilization%  Total Hours   \n",
       "1            0.00     102.00       0.00        34.38%          176   \n",
       "2            8.00      44.00      74.00        35.53%          176   \n",
       "3            8.00      43.00      60.00        40.97%          176   \n",
       "4            0.00     127.00       8.00        11.18%          176   \n",
       "\n",
       "              May 2016.1  May 2016.2   May 2016.3      May 2016.4 May 2016.5  \\\n",
       "0  Total Available Hours  Work Hours  Leave Hours  Training Hours   BD Hours   \n",
       "1                    168       32.00         8.00            0.00     168.00   \n",
       "2                    152       24.00        24.00            0.00      65.00   \n",
       "3                    184       52.50        -8.00            0.00      69.50   \n",
       "4                    160       21.00         0.00           16.00     115.00   \n",
       "\n",
       "  May 2016.6    May 2016.7     Jun 2016             Jun 2016.1  Jun 2016.2  \\\n",
       "0   NC Hours  Utilization%  Total Hours  Total Available Hours  Work Hours   \n",
       "1       8.00        19.05%          176                    152       12.00   \n",
       "2      67.00        15.79%          176                    172       86.00   \n",
       "3      62.00        28.53%          176                    168       43.00   \n",
       "4       8.00        13.13%          176                    176       27.00   \n",
       "\n",
       "    Jun 2016.3      Jun 2016.4 Jun 2016.5 Jun 2016.6    Jun 2016.7  \\\n",
       "0  Leave Hours  Training Hours   BD Hours   NC Hours  Utilization%   \n",
       "1        24.00            0.00      44.00       0.00         7.89%   \n",
       "2         4.00            0.00      47.00      50.00        50.00%   \n",
       "3         8.00            0.00      61.00      64.00        25.60%   \n",
       "4         0.00            0.00     141.00      24.00        15.34%   \n",
       "\n",
       "      Jul 2016             Jul 2016.1  Jul 2016.2   Jul 2016.3  \\\n",
       "0  Total Hours  Total Available Hours  Work Hours  Leave Hours   \n",
       "1          168                    134       69.00        32.00   \n",
       "2          168                    144       27.00         8.00   \n",
       "3          168                    167       85.00         0.00   \n",
       "4          168                  151.5       52.00        10.00   \n",
       "\n",
       "       Jul 2016.4 Jul 2016.5 Jul 2016.6    Jul 2016.7     Aug 2016  \\\n",
       "0  Training Hours   BD Hours   NC Hours  Utilization%  Total Hours   \n",
       "1            2.00     153.00      24.00        51.49%          184   \n",
       "2           16.00      63.00      79.00        18.75%          184   \n",
       "3            1.00      30.50      61.50        50.90%          184   \n",
       "4            6.50      91.50      38.00        34.32%          184   \n",
       "\n",
       "              Aug 2016.1  Aug 2016.2   Aug 2016.3      Aug 2016.4 Aug 2016.5  \\\n",
       "0  Total Available Hours  Work Hours  Leave Hours  Training Hours   BD Hours   \n",
       "1                    168       20.00        16.00            0.00      84.00   \n",
       "2                    168       34.00        16.00            0.00      68.00   \n",
       "3                    160      119.00        24.00            0.00      34.00   \n",
       "4                    152       19.00        32.00            0.00     117.00   \n",
       "\n",
       "  Aug 2016.6    Aug 2016.7     Sep 2016             Sep 2016.1  Sep 2016.2  \\\n",
       "0   NC Hours  Utilization%  Total Hours  Total Available Hours  Work Hours   \n",
       "1       0.00        11.90%          176                    116       65.00   \n",
       "2      70.00        20.24%          176                    138       26.00   \n",
       "3      34.00        74.38%          176                    152       40.50   \n",
       "4      16.00        12.50%          176                    118        9.00   \n",
       "\n",
       "    Sep 2016.3      Sep 2016.4 Sep 2016.5 Sep 2016.6    Sep 2016.7  \\\n",
       "0  Leave Hours  Training Hours   BD Hours   NC Hours  Utilization%   \n",
       "1        28.00           32.00     123.00       0.00        56.03%   \n",
       "2        12.00           26.00      61.00      66.50        18.84%   \n",
       "3         0.00           24.00      55.50      67.00        26.64%   \n",
       "4        54.00            4.00      59.00      58.00         7.63%   \n",
       "\n",
       "      Oct 2016             Oct 2016.1  Oct 2016.2   Oct 2016.3  \\\n",
       "0  Total Hours  Total Available Hours  Work Hours  Leave Hours   \n",
       "1          168                    150       53.00        12.00   \n",
       "2          168                    160       11.00         8.00   \n",
       "3          168                    152       62.50         8.00   \n",
       "4          168                    152        5.00        16.00   \n",
       "\n",
       "       Oct 2016.4 Oct 2016.5 Oct 2016.6    Oct 2016.7     Nov 2016  \\\n",
       "0  Training Hours   BD Hours   NC Hours  Utilization%  Total Hours   \n",
       "1            6.00      91.00       0.00        35.33%          176   \n",
       "2            0.00      87.00      66.00         6.88%          176   \n",
       "3            8.00      43.00      40.50        41.12%          176   \n",
       "4            0.00     139.00       8.00         3.29%          176   \n",
       "\n",
       "              Nov 2016.1  Nov 2016.2   Nov 2016.3      Nov 2016.4 Nov 2016.5  \\\n",
       "0  Total Available Hours  Work Hours  Leave Hours  Training Hours   BD Hours   \n",
       "1                    152       37.00        24.00            0.00      59.00   \n",
       "2                    160       28.00        16.00            0.00      70.00   \n",
       "3                  157.5       48.00        16.00            2.50      64.00   \n",
       "4                    160       11.00        16.00            0.00      93.00   \n",
       "\n",
       "  Nov 2016.6    Nov 2016.7     Dec 2016             Dec 2016.1  Dec 2016.2  \\\n",
       "0   NC Hours  Utilization%  Total Hours  Total Available Hours  Work Hours   \n",
       "1       0.00        24.34%          176                    136       84.00   \n",
       "2      73.00        17.50%          176                    136       54.00   \n",
       "3      54.50        30.48%          176                    136      124.00   \n",
       "4      40.00         6.88%          176                    136        2.00   \n",
       "\n",
       "    Dec 2016.3      Dec 2016.4 Dec 2016.5 Dec 2016.6    Dec 2016.7  \\\n",
       "0  Leave Hours  Training Hours   BD Hours   NC Hours  Utilization%   \n",
       "1        40.00            0.00     126.00       0.00        61.76%   \n",
       "2        40.00            0.00      41.00      41.00        39.71%   \n",
       "3        40.00            0.00       8.00      16.00        91.18%   \n",
       "4        40.00            0.00     158.00       0.00         1.47%   \n",
       "\n",
       "      Jan 2017             Jan 2017.1  Jan 2017.2   Jan 2017.3  \\\n",
       "0  Total Hours  Total Available Hours  Work Hours  Leave Hours   \n",
       "1          176                    144       68.00         8.00   \n",
       "2          176                    164       29.00        12.00   \n",
       "3          176                    152       93.50        24.00   \n",
       "4          176                  159.5       24.00        16.00   \n",
       "\n",
       "       Jan 2017.4 Jan 2017.5 Jan 2017.6    Jan 2017.7     Feb 2017  \\\n",
       "0  Training Hours   BD Hours   NC Hours  Utilization%  Total Hours   \n",
       "1           24.00      67.00       0.00        47.22%          160   \n",
       "2            0.00      67.00      70.00        17.68%          160   \n",
       "3            0.00      49.00      26.50        61.51%          160   \n",
       "4            0.50     122.50       0.00        15.05%          160   \n",
       "\n",
       "              Feb 2017.1  Feb 2017.2   Feb 2017.3      Feb 2017.4 Feb 2017.5  \\\n",
       "0  Total Available Hours  Work Hours  Leave Hours  Training Hours   BD Hours   \n",
       "1                    147       49.00         8.00            5.00     114.00   \n",
       "2                    152        0.00         8.00            0.00      76.00   \n",
       "3                    152       57.50         8.00            0.00      52.00   \n",
       "4                    158       33.00         0.00            2.00     102.00   \n",
       "\n",
       "  Feb 2017.6    Feb 2017.7     Mar 2017             Mar 2017.1  Mar 2017.2  \\\n",
       "0   NC Hours  Utilization%  Total Hours  Total Available Hours  Work Hours   \n",
       "1       0.00        33.33%          184                    175       92.00   \n",
       "2      76.00         0.00%          184                    184      182.50   \n",
       "3      49.50        37.83%          184                    174      220.00   \n",
       "4      39.00        20.89%          184                    176       53.00   \n",
       "\n",
       "    Mar 2017.3      Mar 2017.4 Mar 2017.5 Mar 2017.6    Mar 2017.7  \\\n",
       "0  Leave Hours  Training Hours   BD Hours   NC Hours  Utilization%   \n",
       "1         8.00            1.00      61.00      24.00        52.57%   \n",
       "2         0.00            0.00       5.00       1.50        99.18%   \n",
       "3         8.00            2.00      -2.50      14.00       126.44%   \n",
       "4         8.00            0.00     117.00      16.00        30.11%   \n",
       "\n",
       "         Total                Total.1     Total.2      Total.3  \\\n",
       "0  Total Hours  Total Available Hours  Work Hours  Leave Hours   \n",
       "1        2,088                   1802      636.00       216.00   \n",
       "2        2,088                   1882      555.50       156.00   \n",
       "3        2,088                 1898.5    1,004.50       144.00   \n",
       "4        2,088                   1851      273.00       208.00   \n",
       "\n",
       "          Total.4   Total.5   Total.6       Total.7  \n",
       "0  Training Hours  BD Hours  NC Hours  Utilization%  \n",
       "1           70.00  1,192.00     56.00        35.29%  \n",
       "2           50.00    694.00    734.00        29.52%  \n",
       "3           45.50    507.00    549.50        52.91%  \n",
       "4           29.00  1,382.00    255.00        14.75%  "
      ]
     },
     "execution_count": 4,
     "metadata": {},
     "output_type": "execute_result"
    }
   ],
   "source": [
    "dataset.head(5)"
   ]
  },
  {
   "cell_type": "code",
   "execution_count": 5,
   "metadata": {},
   "outputs": [],
   "source": [
    "#dataset.columns.tolist()[10:-8]"
   ]
  },
  {
   "cell_type": "code",
   "execution_count": 6,
   "metadata": {},
   "outputs": [],
   "source": [
    "dataset = dataset.drop(columns = dataset.columns.tolist()[10:-8])"
   ]
  },
  {
   "cell_type": "code",
   "execution_count": 7,
   "metadata": {},
   "outputs": [
    {
     "data": {
      "text/html": [
       "<div>\n",
       "<style scoped>\n",
       "    .dataframe tbody tr th:only-of-type {\n",
       "        vertical-align: middle;\n",
       "    }\n",
       "\n",
       "    .dataframe tbody tr th {\n",
       "        vertical-align: top;\n",
       "    }\n",
       "\n",
       "    .dataframe thead th {\n",
       "        text-align: right;\n",
       "    }\n",
       "</style>\n",
       "<table border=\"1\" class=\"dataframe\">\n",
       "  <thead>\n",
       "    <tr style=\"text-align: right;\">\n",
       "      <th></th>\n",
       "      <th>Unnamed: 0</th>\n",
       "      <th>Unnamed: 1</th>\n",
       "      <th>Unnamed: 2</th>\n",
       "      <th>Unnamed: 3</th>\n",
       "      <th>Unnamed: 4</th>\n",
       "      <th>Unnamed: 5</th>\n",
       "      <th>Unnamed: 6</th>\n",
       "      <th>Unnamed: 7</th>\n",
       "      <th>Unnamed: 8</th>\n",
       "      <th>Unnamed: 9</th>\n",
       "      <th>Total</th>\n",
       "      <th>Total.1</th>\n",
       "      <th>Total.2</th>\n",
       "      <th>Total.3</th>\n",
       "      <th>Total.4</th>\n",
       "      <th>Total.5</th>\n",
       "      <th>Total.6</th>\n",
       "      <th>Total.7</th>\n",
       "    </tr>\n",
       "  </thead>\n",
       "  <tbody>\n",
       "    <tr>\n",
       "      <th>0</th>\n",
       "      <td>Employee No</td>\n",
       "      <td>Profit Center</td>\n",
       "      <td>Employee Name</td>\n",
       "      <td>Employee Position</td>\n",
       "      <td>Employee Location</td>\n",
       "      <td>People Group</td>\n",
       "      <td>Employee Category</td>\n",
       "      <td>Supervisor name</td>\n",
       "      <td>Join Date</td>\n",
       "      <td>Current Status</td>\n",
       "      <td>Total Hours</td>\n",
       "      <td>Total Available Hours</td>\n",
       "      <td>Work Hours</td>\n",
       "      <td>Leave Hours</td>\n",
       "      <td>Training Hours</td>\n",
       "      <td>BD Hours</td>\n",
       "      <td>NC Hours</td>\n",
       "      <td>Utilization%</td>\n",
       "    </tr>\n",
       "    <tr>\n",
       "      <th>1</th>\n",
       "      <td>1</td>\n",
       "      <td>PC - 1</td>\n",
       "      <td>Rochette Jilleen</td>\n",
       "      <td>Level 2</td>\n",
       "      <td>Location 3</td>\n",
       "      <td>Client Service Staff</td>\n",
       "      <td>Level 1/2</td>\n",
       "      <td>Idalina Lauraine</td>\n",
       "      <td>30 September 2000</td>\n",
       "      <td>Active</td>\n",
       "      <td>2,088</td>\n",
       "      <td>1802</td>\n",
       "      <td>636.00</td>\n",
       "      <td>216.00</td>\n",
       "      <td>70.00</td>\n",
       "      <td>1,192.00</td>\n",
       "      <td>56.00</td>\n",
       "      <td>35.29%</td>\n",
       "    </tr>\n",
       "    <tr>\n",
       "      <th>2</th>\n",
       "      <td>2</td>\n",
       "      <td>PC - 2</td>\n",
       "      <td>Daryl Natalina</td>\n",
       "      <td>Level 2</td>\n",
       "      <td>Location 7</td>\n",
       "      <td>Client Service Staff</td>\n",
       "      <td>Level 1/2</td>\n",
       "      <td>Idalina Lauraine</td>\n",
       "      <td>31 May 1999</td>\n",
       "      <td>Active</td>\n",
       "      <td>2,088</td>\n",
       "      <td>1882</td>\n",
       "      <td>555.50</td>\n",
       "      <td>156.00</td>\n",
       "      <td>50.00</td>\n",
       "      <td>694.00</td>\n",
       "      <td>734.00</td>\n",
       "      <td>29.52%</td>\n",
       "    </tr>\n",
       "    <tr>\n",
       "      <th>3</th>\n",
       "      <td>3</td>\n",
       "      <td>PC - 2</td>\n",
       "      <td>Annnora Gabrielle</td>\n",
       "      <td>Level 2</td>\n",
       "      <td>Location 7</td>\n",
       "      <td>Client Service Staff</td>\n",
       "      <td>Level 1/2</td>\n",
       "      <td>Idalina Lauraine</td>\n",
       "      <td>31 January 2001</td>\n",
       "      <td>Active</td>\n",
       "      <td>2,088</td>\n",
       "      <td>1898.5</td>\n",
       "      <td>1,004.50</td>\n",
       "      <td>144.00</td>\n",
       "      <td>45.50</td>\n",
       "      <td>507.00</td>\n",
       "      <td>549.50</td>\n",
       "      <td>52.91%</td>\n",
       "    </tr>\n",
       "    <tr>\n",
       "      <th>4</th>\n",
       "      <td>4</td>\n",
       "      <td>PC - 3</td>\n",
       "      <td>Barbee Joey</td>\n",
       "      <td>Level 2</td>\n",
       "      <td>Location 1</td>\n",
       "      <td>Client Service Staff</td>\n",
       "      <td>Level 1/2</td>\n",
       "      <td>Idalina Lauraine</td>\n",
       "      <td>30 September 2000</td>\n",
       "      <td>Active</td>\n",
       "      <td>2,088</td>\n",
       "      <td>1851</td>\n",
       "      <td>273.00</td>\n",
       "      <td>208.00</td>\n",
       "      <td>29.00</td>\n",
       "      <td>1,382.00</td>\n",
       "      <td>255.00</td>\n",
       "      <td>14.75%</td>\n",
       "    </tr>\n",
       "  </tbody>\n",
       "</table>\n",
       "</div>"
      ],
      "text/plain": [
       "    Unnamed: 0     Unnamed: 1         Unnamed: 2         Unnamed: 3  \\\n",
       "0  Employee No  Profit Center      Employee Name  Employee Position   \n",
       "1            1         PC - 1   Rochette Jilleen            Level 2   \n",
       "2            2         PC - 2     Daryl Natalina            Level 2   \n",
       "3            3         PC - 2  Annnora Gabrielle            Level 2   \n",
       "4            4         PC - 3        Barbee Joey            Level 2   \n",
       "\n",
       "          Unnamed: 4            Unnamed: 5         Unnamed: 6  \\\n",
       "0  Employee Location          People Group  Employee Category   \n",
       "1         Location 3  Client Service Staff          Level 1/2   \n",
       "2         Location 7  Client Service Staff          Level 1/2   \n",
       "3         Location 7  Client Service Staff          Level 1/2   \n",
       "4         Location 1  Client Service Staff          Level 1/2   \n",
       "\n",
       "         Unnamed: 7         Unnamed: 8      Unnamed: 9        Total  \\\n",
       "0   Supervisor name          Join Date  Current Status  Total Hours   \n",
       "1  Idalina Lauraine  30 September 2000          Active        2,088   \n",
       "2  Idalina Lauraine        31 May 1999          Active        2,088   \n",
       "3  Idalina Lauraine    31 January 2001          Active        2,088   \n",
       "4  Idalina Lauraine  30 September 2000          Active        2,088   \n",
       "\n",
       "                 Total.1     Total.2      Total.3         Total.4   Total.5  \\\n",
       "0  Total Available Hours  Work Hours  Leave Hours  Training Hours  BD Hours   \n",
       "1                   1802      636.00       216.00           70.00  1,192.00   \n",
       "2                   1882      555.50       156.00           50.00    694.00   \n",
       "3                 1898.5    1,004.50       144.00           45.50    507.00   \n",
       "4                   1851      273.00       208.00           29.00  1,382.00   \n",
       "\n",
       "    Total.6       Total.7  \n",
       "0  NC Hours  Utilization%  \n",
       "1     56.00        35.29%  \n",
       "2    734.00        29.52%  \n",
       "3    549.50        52.91%  \n",
       "4    255.00        14.75%  "
      ]
     },
     "execution_count": 7,
     "metadata": {},
     "output_type": "execute_result"
    }
   ],
   "source": [
    "dataset.head(5)"
   ]
  },
  {
   "cell_type": "code",
   "execution_count": 8,
   "metadata": {},
   "outputs": [],
   "source": [
    "df = dataset[:].values"
   ]
  },
  {
   "cell_type": "code",
   "execution_count": 9,
   "metadata": {},
   "outputs": [
    {
     "data": {
      "text/plain": [
       "array([['Employee No', 'Profit Center', 'Employee Name', ..., 'BD Hours',\n",
       "        'NC Hours', 'Utilization%'],\n",
       "       ['1', 'PC - 1', 'Rochette Jilleen', ..., '1,192.00', '56.00',\n",
       "        '35.29%'],\n",
       "       ['2', 'PC - 2', 'Daryl Natalina', ..., '694.00', '734.00',\n",
       "        '29.52%'],\n",
       "       ...,\n",
       "       ['787', 'PC - 5', 'Calli Celene', ..., '0.00', '72.00', '0.00%'],\n",
       "       ['788', 'PC - 3', 'Myrna Brianna', ..., '0.00', '32.00', '0.00%'],\n",
       "       ['789', 'PC - 3', 'Bibbye Isabelle', ..., '0.00', '18.00',\n",
       "        '0.00%']], dtype=object)"
      ]
     },
     "execution_count": 9,
     "metadata": {},
     "output_type": "execute_result"
    }
   ],
   "source": [
    "df"
   ]
  },
  {
   "cell_type": "code",
   "execution_count": 10,
   "metadata": {},
   "outputs": [],
   "source": [
    "dataset=pd.DataFrame(df[1:],columns = df[0])"
   ]
  },
  {
   "cell_type": "code",
   "execution_count": 11,
   "metadata": {},
   "outputs": [
    {
     "data": {
      "text/html": [
       "<div>\n",
       "<style scoped>\n",
       "    .dataframe tbody tr th:only-of-type {\n",
       "        vertical-align: middle;\n",
       "    }\n",
       "\n",
       "    .dataframe tbody tr th {\n",
       "        vertical-align: top;\n",
       "    }\n",
       "\n",
       "    .dataframe thead th {\n",
       "        text-align: right;\n",
       "    }\n",
       "</style>\n",
       "<table border=\"1\" class=\"dataframe\">\n",
       "  <thead>\n",
       "    <tr style=\"text-align: right;\">\n",
       "      <th></th>\n",
       "      <th>Employee No</th>\n",
       "      <th>Profit Center</th>\n",
       "      <th>Employee Name</th>\n",
       "      <th>Employee Position</th>\n",
       "      <th>Employee Location</th>\n",
       "      <th>People Group</th>\n",
       "      <th>Employee Category</th>\n",
       "      <th>Supervisor name</th>\n",
       "      <th>Join Date</th>\n",
       "      <th>Current Status</th>\n",
       "      <th>Total Hours</th>\n",
       "      <th>Total Available Hours</th>\n",
       "      <th>Work Hours</th>\n",
       "      <th>Leave Hours</th>\n",
       "      <th>Training Hours</th>\n",
       "      <th>BD Hours</th>\n",
       "      <th>NC Hours</th>\n",
       "      <th>Utilization%</th>\n",
       "    </tr>\n",
       "  </thead>\n",
       "  <tbody>\n",
       "    <tr>\n",
       "      <th>0</th>\n",
       "      <td>1</td>\n",
       "      <td>PC - 1</td>\n",
       "      <td>Rochette Jilleen</td>\n",
       "      <td>Level 2</td>\n",
       "      <td>Location 3</td>\n",
       "      <td>Client Service Staff</td>\n",
       "      <td>Level 1/2</td>\n",
       "      <td>Idalina Lauraine</td>\n",
       "      <td>30 September 2000</td>\n",
       "      <td>Active</td>\n",
       "      <td>2,088</td>\n",
       "      <td>1802</td>\n",
       "      <td>636.00</td>\n",
       "      <td>216.00</td>\n",
       "      <td>70.00</td>\n",
       "      <td>1,192.00</td>\n",
       "      <td>56.00</td>\n",
       "      <td>35.29%</td>\n",
       "    </tr>\n",
       "    <tr>\n",
       "      <th>1</th>\n",
       "      <td>2</td>\n",
       "      <td>PC - 2</td>\n",
       "      <td>Daryl Natalina</td>\n",
       "      <td>Level 2</td>\n",
       "      <td>Location 7</td>\n",
       "      <td>Client Service Staff</td>\n",
       "      <td>Level 1/2</td>\n",
       "      <td>Idalina Lauraine</td>\n",
       "      <td>31 May 1999</td>\n",
       "      <td>Active</td>\n",
       "      <td>2,088</td>\n",
       "      <td>1882</td>\n",
       "      <td>555.50</td>\n",
       "      <td>156.00</td>\n",
       "      <td>50.00</td>\n",
       "      <td>694.00</td>\n",
       "      <td>734.00</td>\n",
       "      <td>29.52%</td>\n",
       "    </tr>\n",
       "    <tr>\n",
       "      <th>2</th>\n",
       "      <td>3</td>\n",
       "      <td>PC - 2</td>\n",
       "      <td>Annnora Gabrielle</td>\n",
       "      <td>Level 2</td>\n",
       "      <td>Location 7</td>\n",
       "      <td>Client Service Staff</td>\n",
       "      <td>Level 1/2</td>\n",
       "      <td>Idalina Lauraine</td>\n",
       "      <td>31 January 2001</td>\n",
       "      <td>Active</td>\n",
       "      <td>2,088</td>\n",
       "      <td>1898.5</td>\n",
       "      <td>1,004.50</td>\n",
       "      <td>144.00</td>\n",
       "      <td>45.50</td>\n",
       "      <td>507.00</td>\n",
       "      <td>549.50</td>\n",
       "      <td>52.91%</td>\n",
       "    </tr>\n",
       "    <tr>\n",
       "      <th>3</th>\n",
       "      <td>4</td>\n",
       "      <td>PC - 3</td>\n",
       "      <td>Barbee Joey</td>\n",
       "      <td>Level 2</td>\n",
       "      <td>Location 1</td>\n",
       "      <td>Client Service Staff</td>\n",
       "      <td>Level 1/2</td>\n",
       "      <td>Idalina Lauraine</td>\n",
       "      <td>30 September 2000</td>\n",
       "      <td>Active</td>\n",
       "      <td>2,088</td>\n",
       "      <td>1851</td>\n",
       "      <td>273.00</td>\n",
       "      <td>208.00</td>\n",
       "      <td>29.00</td>\n",
       "      <td>1,382.00</td>\n",
       "      <td>255.00</td>\n",
       "      <td>14.75%</td>\n",
       "    </tr>\n",
       "    <tr>\n",
       "      <th>4</th>\n",
       "      <td>5</td>\n",
       "      <td>PC - 4</td>\n",
       "      <td>Idalina Lauraine</td>\n",
       "      <td>Level 1</td>\n",
       "      <td>Location 3</td>\n",
       "      <td>Client Service Staff</td>\n",
       "      <td>Level 1/2</td>\n",
       "      <td>Abagail Druci</td>\n",
       "      <td>30 June 1998</td>\n",
       "      <td>Active</td>\n",
       "      <td>1,312</td>\n",
       "      <td>1205</td>\n",
       "      <td>149.00</td>\n",
       "      <td>104.00</td>\n",
       "      <td>3.00</td>\n",
       "      <td>1,159.00</td>\n",
       "      <td>818.00</td>\n",
       "      <td>12.37%</td>\n",
       "    </tr>\n",
       "  </tbody>\n",
       "</table>\n",
       "</div>"
      ],
      "text/plain": [
       "  Employee No Profit Center      Employee Name Employee Position  \\\n",
       "0           1        PC - 1   Rochette Jilleen           Level 2   \n",
       "1           2        PC - 2     Daryl Natalina           Level 2   \n",
       "2           3        PC - 2  Annnora Gabrielle           Level 2   \n",
       "3           4        PC - 3        Barbee Joey           Level 2   \n",
       "4           5        PC - 4   Idalina Lauraine           Level 1   \n",
       "\n",
       "  Employee Location          People Group Employee Category   Supervisor name  \\\n",
       "0        Location 3  Client Service Staff         Level 1/2  Idalina Lauraine   \n",
       "1        Location 7  Client Service Staff         Level 1/2  Idalina Lauraine   \n",
       "2        Location 7  Client Service Staff         Level 1/2  Idalina Lauraine   \n",
       "3        Location 1  Client Service Staff         Level 1/2  Idalina Lauraine   \n",
       "4        Location 3  Client Service Staff         Level 1/2     Abagail Druci   \n",
       "\n",
       "           Join Date Current Status Total Hours Total Available Hours  \\\n",
       "0  30 September 2000         Active       2,088                  1802   \n",
       "1        31 May 1999         Active       2,088                  1882   \n",
       "2    31 January 2001         Active       2,088                1898.5   \n",
       "3  30 September 2000         Active       2,088                  1851   \n",
       "4       30 June 1998         Active       1,312                  1205   \n",
       "\n",
       "  Work Hours Leave Hours Training Hours  BD Hours NC Hours Utilization%  \n",
       "0     636.00      216.00          70.00  1,192.00    56.00       35.29%  \n",
       "1     555.50      156.00          50.00    694.00   734.00       29.52%  \n",
       "2   1,004.50      144.00          45.50    507.00   549.50       52.91%  \n",
       "3     273.00      208.00          29.00  1,382.00   255.00       14.75%  \n",
       "4     149.00      104.00           3.00  1,159.00   818.00       12.37%  "
      ]
     },
     "execution_count": 11,
     "metadata": {},
     "output_type": "execute_result"
    }
   ],
   "source": [
    "dataset.head(5)"
   ]
  },
  {
   "cell_type": "code",
   "execution_count": 12,
   "metadata": {},
   "outputs": [
    {
     "data": {
      "text/plain": [
       "(789, 18)"
      ]
     },
     "execution_count": 12,
     "metadata": {},
     "output_type": "execute_result"
    }
   ],
   "source": [
    "dataset.shape"
   ]
  },
  {
   "cell_type": "code",
   "execution_count": 13,
   "metadata": {},
   "outputs": [],
   "source": [
    "dataset = dataset.drop(columns =['Profit Center','Employee Location','Employee No','Join Date'] )"
   ]
  },
  {
   "cell_type": "code",
   "execution_count": 14,
   "metadata": {},
   "outputs": [
    {
     "data": {
      "text/plain": [
       "Employee Name            0\n",
       "Employee Position        0\n",
       "People Group             0\n",
       "Employee Category        0\n",
       "Supervisor name          0\n",
       "Current Status           0\n",
       "Total Hours              0\n",
       "Total Available Hours    0\n",
       "Work Hours               0\n",
       "Leave Hours              0\n",
       "Training Hours           0\n",
       "BD Hours                 0\n",
       "NC Hours                 0\n",
       "Utilization%             0\n",
       "dtype: int64"
      ]
     },
     "execution_count": 14,
     "metadata": {},
     "output_type": "execute_result"
    }
   ],
   "source": [
    "dataset.isnull().sum()"
   ]
  },
  {
   "cell_type": "code",
   "execution_count": 15,
   "metadata": {},
   "outputs": [
    {
     "data": {
      "text/plain": [
       "False"
      ]
     },
     "execution_count": 15,
     "metadata": {},
     "output_type": "execute_result"
    }
   ],
   "source": [
    "dataset.isnull().values.any()"
   ]
  },
  {
   "cell_type": "code",
   "execution_count": 16,
   "metadata": {},
   "outputs": [
    {
     "name": "stdout",
     "output_type": "stream",
     "text": [
      "Active        628\n",
      "Resigned      141\n",
      "New Joiner     15\n",
      "Secondment      5\n",
      "Name: Current Status, dtype: int64\n"
     ]
    }
   ],
   "source": [
    "print(dataset['Current Status'].value_counts())"
   ]
  },
  {
   "cell_type": "code",
   "execution_count": 17,
   "metadata": {},
   "outputs": [],
   "source": [
    "dataset = dataset.replace(['Secondment','New Joiner'],'Active')"
   ]
  },
  {
   "cell_type": "code",
   "execution_count": 18,
   "metadata": {},
   "outputs": [
    {
     "name": "stdout",
     "output_type": "stream",
     "text": [
      "Active      648\n",
      "Resigned    141\n",
      "Name: Current Status, dtype: int64\n"
     ]
    },
    {
     "data": {
      "image/png": "[encoded data removed]",
      "text/plain": [
       "<Figure size 432x288 with 1 Axes>"
      ]
     },
     "metadata": {
      "needs_background": "light"
     },
     "output_type": "display_data"
    }
   ],
   "source": [
    "print(dataset['Current Status'].value_counts())\n",
    "sns.countplot(dataset['Current Status'])\n",
    "plt.show()"
   ]
  },
  {
   "cell_type": "code",
   "execution_count": 19,
   "metadata": {},
   "outputs": [
    {
     "data": {
      "text/plain": [
       "<matplotlib.axes._subplots.AxesSubplot at 0x1c176c9e2e8>"
      ]
     },
     "execution_count": 19,
     "metadata": {},
     "output_type": "execute_result"
    },
    {
     "data": {
      "image/png": "[encoded data removed]",
      "text/plain": [
       "<Figure size 1440x360 with 1 Axes>"
      ]
     },
     "metadata": {
      "needs_background": "light"
     },
     "output_type": "display_data"
    }
   ],
   "source": [
    "plt.figure(figsize=(20,5))\n",
    "sns.countplot(x='Employee Position',hue='Current Status',data=dataset)"
   ]
  },
  {
   "cell_type": "code",
   "execution_count": 20,
   "metadata": {},
   "outputs": [
    {
     "data": {
      "text/plain": [
       "Employee Name            object\n",
       "Employee Position        object\n",
       "People Group             object\n",
       "Employee Category        object\n",
       "Supervisor name          object\n",
       "Current Status           object\n",
       "Total Hours              object\n",
       "Total Available Hours    object\n",
       "Work Hours               object\n",
       "Leave Hours              object\n",
       "Training Hours           object\n",
       "BD Hours                 object\n",
       "NC Hours                 object\n",
       "Utilization%             object\n",
       "dtype: object"
      ]
     },
     "execution_count": 20,
     "metadata": {},
     "output_type": "execute_result"
    }
   ],
   "source": [
    "dataset.dtypes"
   ]
  },
  {
   "cell_type": "code",
   "execution_count": 21,
   "metadata": {},
   "outputs": [],
   "source": [
    "dataset.columns=dataset.columns.str.replace('%','')\n",
    "dataset.columns=dataset.columns.str.replace(' ','')\n",
    "dataset[\"Utilization\"] = dataset[\"Utilization\"].str.strip('-%')"
   ]
  },
  {
   "cell_type": "code",
   "execution_count": 22,
   "metadata": {},
   "outputs": [],
   "source": [
    "dataset[\"TotalHours\"] = dataset[\"TotalHours\"].str.replace(\",\",\"\").astype(float)\n",
    "dataset[\"TotalAvailableHours\"] = dataset[\"TotalAvailableHours\"].str.replace(\",\",\"\").astype(float)\n",
    "dataset[\"WorkHours\"] = dataset[\"WorkHours\"].str.replace(\",\",\"\").astype(float)\n",
    "dataset[\"LeaveHours\"] = dataset[\"LeaveHours\"].str.replace(\",\",\"\").astype(float)\n",
    "dataset[\"TrainingHours\"] = dataset[\"TrainingHours\"].str.replace(\",\",\"\").astype(float)\n",
    "dataset[\"BDHours\"] = dataset[\"BDHours\"].str.replace(\",\",\"\").astype(float)\n",
    "dataset[\"NCHours\"] = dataset[\"NCHours\"].str.replace(\",\",\"\").astype(float)\n",
    "dataset[\"Utilization\"] = pd.to_numeric(dataset[\"Utilization\"])"
   ]
  },
  {
   "cell_type": "code",
   "execution_count": 23,
   "metadata": {},
   "outputs": [
    {
     "data": {
      "text/plain": [
       "True"
      ]
     },
     "execution_count": 23,
     "metadata": {},
     "output_type": "execute_result"
    }
   ],
   "source": [
    "dataset.isnull().values.any()"
   ]
  },
  {
   "cell_type": "code",
   "execution_count": 24,
   "metadata": {},
   "outputs": [
    {
     "data": {
      "text/plain": [
       "EmployeeName           0\n",
       "EmployeePosition       0\n",
       "PeopleGroup            0\n",
       "EmployeeCategory       0\n",
       "Supervisorname         0\n",
       "CurrentStatus          0\n",
       "TotalHours             0\n",
       "TotalAvailableHours    0\n",
       "WorkHours              0\n",
       "LeaveHours             0\n",
       "TrainingHours          0\n",
       "BDHours                0\n",
       "NCHours                0\n",
       "Utilization            1\n",
       "dtype: int64"
      ]
     },
     "execution_count": 24,
     "metadata": {},
     "output_type": "execute_result"
    }
   ],
   "source": [
    "dataset.isnull().sum()"
   ]
  },
  {
   "cell_type": "code",
   "execution_count": 25,
   "metadata": {},
   "outputs": [],
   "source": [
    "dataset.Utilization.fillna(dataset.Utilization.mean(),inplace=True)"
   ]
  },
  {
   "cell_type": "code",
   "execution_count": 26,
   "metadata": {},
   "outputs": [
    {
     "data": {
      "text/plain": [
       "False"
      ]
     },
     "execution_count": 26,
     "metadata": {},
     "output_type": "execute_result"
    }
   ],
   "source": [
    "dataset.isnull().values.any()"
   ]
  },
  {
   "cell_type": "code",
   "execution_count": 27,
   "metadata": {},
   "outputs": [],
   "source": [
    "dataset = dataset.drop(columns = \"EmployeeName\")"
   ]
  },
  {
   "cell_type": "code",
   "execution_count": 28,
   "metadata": {},
   "outputs": [
    {
     "data": {
      "text/plain": [
       "EmployeePosition        object\n",
       "PeopleGroup             object\n",
       "EmployeeCategory        object\n",
       "Supervisorname          object\n",
       "CurrentStatus           object\n",
       "TotalHours             float64\n",
       "TotalAvailableHours    float64\n",
       "WorkHours              float64\n",
       "LeaveHours             float64\n",
       "TrainingHours          float64\n",
       "BDHours                float64\n",
       "NCHours                float64\n",
       "Utilization            float64\n",
       "dtype: object"
      ]
     },
     "execution_count": 28,
     "metadata": {},
     "output_type": "execute_result"
    }
   ],
   "source": [
    "dataset.dtypes"
   ]
  },
  {
   "cell_type": "code",
   "execution_count": 29,
   "metadata": {},
   "outputs": [],
   "source": [
    "from sklearn.preprocessing import LabelEncoder\n",
    "le = LabelEncoder()\n",
    "for column in dataset.columns:\n",
    "    if dataset[column].dtype == 'object':\n",
    "        dataset[column] = LabelEncoder().fit_transform(dataset[column])\n",
    "    else:\n",
    "        pass"
   ]
  },
  {
   "cell_type": "code",
   "execution_count": 30,
   "metadata": {},
   "outputs": [
    {
     "data": {
      "text/plain": [
       "EmployeePosition         int32\n",
       "PeopleGroup              int32\n",
       "EmployeeCategory         int32\n",
       "Supervisorname           int32\n",
       "CurrentStatus            int32\n",
       "TotalHours             float64\n",
       "TotalAvailableHours    float64\n",
       "WorkHours              float64\n",
       "LeaveHours             float64\n",
       "TrainingHours          float64\n",
       "BDHours                float64\n",
       "NCHours                float64\n",
       "Utilization            float64\n",
       "dtype: object"
      ]
     },
     "execution_count": 30,
     "metadata": {},
     "output_type": "execute_result"
    }
   ],
   "source": [
    "dataset.dtypes"
   ]
  },
  {
   "cell_type": "code",
   "execution_count": 31,
   "metadata": {},
   "outputs": [
    {
     "data": {
      "text/html": [
       "<div>\n",
       "<style scoped>\n",
       "    .dataframe tbody tr th:only-of-type {\n",
       "        vertical-align: middle;\n",
       "    }\n",
       "\n",
       "    .dataframe tbody tr th {\n",
       "        vertical-align: top;\n",
       "    }\n",
       "\n",
       "    .dataframe thead th {\n",
       "        text-align: right;\n",
       "    }\n",
       "</style>\n",
       "<table border=\"1\" class=\"dataframe\">\n",
       "  <thead>\n",
       "    <tr style=\"text-align: right;\">\n",
       "      <th></th>\n",
       "      <th>EmployeePosition</th>\n",
       "      <th>PeopleGroup</th>\n",
       "      <th>EmployeeCategory</th>\n",
       "      <th>Supervisorname</th>\n",
       "      <th>CurrentStatus</th>\n",
       "      <th>TotalHours</th>\n",
       "      <th>TotalAvailableHours</th>\n",
       "      <th>WorkHours</th>\n",
       "      <th>LeaveHours</th>\n",
       "      <th>TrainingHours</th>\n",
       "      <th>BDHours</th>\n",
       "      <th>NCHours</th>\n",
       "      <th>Utilization</th>\n",
       "    </tr>\n",
       "  </thead>\n",
       "  <tbody>\n",
       "    <tr>\n",
       "      <th>0</th>\n",
       "      <td>2</td>\n",
       "      <td>0</td>\n",
       "      <td>2</td>\n",
       "      <td>48</td>\n",
       "      <td>0</td>\n",
       "      <td>2088.0</td>\n",
       "      <td>1802.0</td>\n",
       "      <td>636.0</td>\n",
       "      <td>216.0</td>\n",
       "      <td>70.0</td>\n",
       "      <td>1192.0</td>\n",
       "      <td>56.0</td>\n",
       "      <td>35.29</td>\n",
       "    </tr>\n",
       "    <tr>\n",
       "      <th>1</th>\n",
       "      <td>2</td>\n",
       "      <td>0</td>\n",
       "      <td>2</td>\n",
       "      <td>48</td>\n",
       "      <td>0</td>\n",
       "      <td>2088.0</td>\n",
       "      <td>1882.0</td>\n",
       "      <td>555.5</td>\n",
       "      <td>156.0</td>\n",
       "      <td>50.0</td>\n",
       "      <td>694.0</td>\n",
       "      <td>734.0</td>\n",
       "      <td>29.52</td>\n",
       "    </tr>\n",
       "    <tr>\n",
       "      <th>2</th>\n",
       "      <td>2</td>\n",
       "      <td>0</td>\n",
       "      <td>2</td>\n",
       "      <td>48</td>\n",
       "      <td>0</td>\n",
       "      <td>2088.0</td>\n",
       "      <td>1898.5</td>\n",
       "      <td>1004.5</td>\n",
       "      <td>144.0</td>\n",
       "      <td>45.5</td>\n",
       "      <td>507.0</td>\n",
       "      <td>549.5</td>\n",
       "      <td>52.91</td>\n",
       "    </tr>\n",
       "    <tr>\n",
       "      <th>3</th>\n",
       "      <td>2</td>\n",
       "      <td>0</td>\n",
       "      <td>2</td>\n",
       "      <td>48</td>\n",
       "      <td>0</td>\n",
       "      <td>2088.0</td>\n",
       "      <td>1851.0</td>\n",
       "      <td>273.0</td>\n",
       "      <td>208.0</td>\n",
       "      <td>29.0</td>\n",
       "      <td>1382.0</td>\n",
       "      <td>255.0</td>\n",
       "      <td>14.75</td>\n",
       "    </tr>\n",
       "    <tr>\n",
       "      <th>4</th>\n",
       "      <td>0</td>\n",
       "      <td>0</td>\n",
       "      <td>2</td>\n",
       "      <td>0</td>\n",
       "      <td>0</td>\n",
       "      <td>1312.0</td>\n",
       "      <td>1205.0</td>\n",
       "      <td>149.0</td>\n",
       "      <td>104.0</td>\n",
       "      <td>3.0</td>\n",
       "      <td>1159.0</td>\n",
       "      <td>818.0</td>\n",
       "      <td>12.37</td>\n",
       "    </tr>\n",
       "  </tbody>\n",
       "</table>\n",
       "</div>"
      ],
      "text/plain": [
       "   EmployeePosition  PeopleGroup  EmployeeCategory  Supervisorname  \\\n",
       "0                 2            0                 2              48   \n",
       "1                 2            0                 2              48   \n",
       "2                 2            0                 2              48   \n",
       "3                 2            0                 2              48   \n",
       "4                 0            0                 2               0   \n",
       "\n",
       "   CurrentStatus  TotalHours  TotalAvailableHours  WorkHours  LeaveHours  \\\n",
       "0              0      2088.0               1802.0      636.0       216.0   \n",
       "1              0      2088.0               1882.0      555.5       156.0   \n",
       "2              0      2088.0               1898.5     1004.5       144.0   \n",
       "3              0      2088.0               1851.0      273.0       208.0   \n",
       "4              0      1312.0               1205.0      149.0       104.0   \n",
       "\n",
       "   TrainingHours  BDHours  NCHours  Utilization  \n",
       "0           70.0   1192.0     56.0        35.29  \n",
       "1           50.0    694.0    734.0        29.52  \n",
       "2           45.5    507.0    549.5        52.91  \n",
       "3           29.0   1382.0    255.0        14.75  \n",
       "4            3.0   1159.0    818.0        12.37  "
      ]
     },
     "execution_count": 31,
     "metadata": {},
     "output_type": "execute_result"
    }
   ],
   "source": [
    "dataset.head()"
   ]
  },
  {
   "cell_type": "markdown",
   "metadata": {},
   "source": [
    "# Corellation matrix and heatmap"
   ]
  },
  {
   "cell_type": "code",
   "execution_count": 32,
   "metadata": {},
   "outputs": [],
   "source": [
    "corr = dataset.corr()"
   ]
  },
  {
   "cell_type": "code",
   "execution_count": 33,
   "metadata": {},
   "outputs": [
    {
     "data": {
      "image/png": "[encoded data removed]",
      "text/plain": [
       "<Figure size 1152x648 with 2 Axes>"
      ]
     },
     "metadata": {
      "needs_background": "light"
     },
     "output_type": "display_data"
    }
   ],
   "source": [
    "plt.figure(figsize=(16,9))\n",
    "ax = sns.heatmap(corr,annot=True,fmt='0.0%',cmap='coolwarm')"
   ]
  },
  {
   "cell_type": "markdown",
   "metadata": {},
   "source": [
    "# Splitting the dataset# "
   ]
  },
  {
   "cell_type": "code",
   "execution_count": 34,
   "metadata": {},
   "outputs": [],
   "source": [
    "x = dataset.drop(columns='CurrentStatus')\n",
    "y = dataset['CurrentStatus']"
   ]
  },
  {
   "cell_type": "code",
   "execution_count": 35,
   "metadata": {},
   "outputs": [],
   "source": [
    "from sklearn.model_selection import train_test_split\n",
    "x_train,x_test,y_train,y_test = train_test_split(x,y,test_size=0.2,random_state=1234)"
   ]
  },
  {
   "cell_type": "code",
   "execution_count": 36,
   "metadata": {},
   "outputs": [
    {
     "name": "stdout",
     "output_type": "stream",
     "text": [
      "(631, 12)\n",
      "(631,)\n",
      "-------------\n",
      "(158, 12)\n",
      "(158,)\n"
     ]
    }
   ],
   "source": [
    "print(x_train.shape)\n",
    "print(y_train.shape)\n",
    "print('-------------')\n",
    "print(x_test.shape)\n",
    "print(y_test.shape)"
   ]
  },
  {
   "cell_type": "markdown",
   "metadata": {},
   "source": [
    "# Feature scaling"
   ]
  },
  {
   "cell_type": "code",
   "execution_count": 37,
   "metadata": {},
   "outputs": [],
   "source": [
    "from sklearn.preprocessing import StandardScaler\n",
    "sc = StandardScaler()\n",
    "x_train = sc.fit_transform(x_train)\n",
    "x_test = sc.transform(x_test)"
   ]
  },
  {
   "cell_type": "markdown",
   "metadata": {},
   "source": [
    "# Building the Model"
   ]
  },
  {
   "cell_type": "markdown",
   "metadata": {},
   "source": [
    "#Logistics Regression"
   ]
  },
  {
   "cell_type": "code",
   "execution_count": 38,
   "metadata": {},
   "outputs": [
    {
     "data": {
      "text/plain": [
       "LogisticRegression(C=1.0, class_weight=None, dual=False, fit_intercept=True,\n",
       "          intercept_scaling=1, max_iter=100, multi_class='warn',\n",
       "          n_jobs=None, penalty='l2', random_state=None, solver='warn',\n",
       "          tol=0.0001, verbose=0, warm_start=False)"
      ]
     },
     "execution_count": 38,
     "metadata": {},
     "output_type": "execute_result"
    }
   ],
   "source": [
    "from sklearn.linear_model import LogisticRegression\n",
    "classifier_lr = LogisticRegression()\n",
    "classifier_lr.fit(x_train,y_train)"
   ]
  },
  {
   "cell_type": "code",
   "execution_count": 39,
   "metadata": {},
   "outputs": [],
   "source": [
    "y_pred_lr = classifier_lr.predict(x_test)"
   ]
  },
  {
   "cell_type": "code",
   "execution_count": 40,
   "metadata": {},
   "outputs": [
    {
     "data": {
      "text/plain": [
       "0.8734177215189873"
      ]
     },
     "execution_count": 40,
     "metadata": {},
     "output_type": "execute_result"
    }
   ],
   "source": [
    "from sklearn.metrics import accuracy_score,confusion_matrix\n",
    "acc_lr = accuracy_score(y_test,y_pred_lr)\n",
    "acc_lr"
   ]
  },
  {
   "cell_type": "code",
   "execution_count": 41,
   "metadata": {},
   "outputs": [
    {
     "data": {
      "text/plain": [
       "array([[112,  10],\n",
       "       [ 10,  26]], dtype=int64)"
      ]
     },
     "execution_count": 41,
     "metadata": {},
     "output_type": "execute_result"
    }
   ],
   "source": [
    "cm_lr = confusion_matrix(y_test,y_pred_lr)\n",
    "cm_lr"
   ]
  },
  {
   "cell_type": "code",
   "execution_count": 42,
   "metadata": {},
   "outputs": [
    {
     "name": "stdout",
     "output_type": "stream",
     "text": [
      "Accuracy is 87.63 %\n",
      "Standard Deviation is 3.77 %\n"
     ]
    }
   ],
   "source": [
    "from sklearn.model_selection import cross_val_score\n",
    "accuracies_lr = cross_val_score(estimator=classifier_lr,X=x_train,y=y_train,cv=10)\n",
    "print(\"Accuracy is {:.2f} %\".format(accuracies_lr.mean()*100))\n",
    "print(\"Standard Deviation is {:.2f} %\".format(accuracies_lr.std()*100))"
   ]
  },
  {
   "cell_type": "code",
   "execution_count": 43,
   "metadata": {},
   "outputs": [
    {
     "data": {
      "text/html": [
       "<div>\n",
       "<style scoped>\n",
       "    .dataframe tbody tr th:only-of-type {\n",
       "        vertical-align: middle;\n",
       "    }\n",
       "\n",
       "    .dataframe tbody tr th {\n",
       "        vertical-align: top;\n",
       "    }\n",
       "\n",
       "    .dataframe thead th {\n",
       "        text-align: right;\n",
       "    }\n",
       "</style>\n",
       "<table border=\"1\" class=\"dataframe\">\n",
       "  <thead>\n",
       "    <tr style=\"text-align: right;\">\n",
       "      <th></th>\n",
       "      <th>Model</th>\n",
       "      <th>Accuracy</th>\n",
       "      <th>Average Accuracy</th>\n",
       "    </tr>\n",
       "  </thead>\n",
       "  <tbody>\n",
       "    <tr>\n",
       "      <th>0</th>\n",
       "      <td>LogisticRegression</td>\n",
       "      <td>87.341772</td>\n",
       "      <td>87.633849</td>\n",
       "    </tr>\n",
       "  </tbody>\n",
       "</table>\n",
       "</div>"
      ],
      "text/plain": [
       "                Model   Accuracy  Average Accuracy\n",
       "0  LogisticRegression  87.341772         87.633849"
      ]
     },
     "execution_count": 43,
     "metadata": {},
     "output_type": "execute_result"
    }
   ],
   "source": [
    "result = pd.DataFrame([[\"LogisticRegression\",acc_lr*100,accuracies_lr.mean()*100]],\n",
    "                     columns=[\"Model\",\"Accuracy\",\"Average Accuracy\"])\n",
    "result"
   ]
  },
  {
   "cell_type": "markdown",
   "metadata": {},
   "source": [
    "#Decision Tree"
   ]
  },
  {
   "cell_type": "code",
   "execution_count": 44,
   "metadata": {},
   "outputs": [
    {
     "data": {
      "text/plain": [
       "DecisionTreeClassifier(class_weight=None, criterion='gini', max_depth=None,\n",
       "            max_features=None, max_leaf_nodes=None,\n",
       "            min_impurity_decrease=0.0, min_impurity_split=None,\n",
       "            min_samples_leaf=1, min_samples_split=2,\n",
       "            min_weight_fraction_leaf=0.0, presort=False, random_state=None,\n",
       "            splitter='best')"
      ]
     },
     "execution_count": 44,
     "metadata": {},
     "output_type": "execute_result"
    }
   ],
   "source": [
    "from sklearn.tree import DecisionTreeClassifier\n",
    "classifier_dt = DecisionTreeClassifier()\n",
    "classifier_dt.fit(x_train,y_train)"
   ]
  },
  {
   "cell_type": "code",
   "execution_count": 45,
   "metadata": {},
   "outputs": [],
   "source": [
    "y_pred_dt = classifier_dt.predict(x_test)"
   ]
  },
  {
   "cell_type": "code",
   "execution_count": 46,
   "metadata": {},
   "outputs": [
    {
     "data": {
      "text/plain": [
       "0.9556962025316456"
      ]
     },
     "execution_count": 46,
     "metadata": {},
     "output_type": "execute_result"
    }
   ],
   "source": [
    "from sklearn.metrics import accuracy_score,confusion_matrix\n",
    "acc_dt = accuracy_score(y_test,y_pred_dt)\n",
    "acc_dt"
   ]
  },
  {
   "cell_type": "code",
   "execution_count": 47,
   "metadata": {},
   "outputs": [
    {
     "data": {
      "text/plain": [
       "array([[118,   4],\n",
       "       [  3,  33]], dtype=int64)"
      ]
     },
     "execution_count": 47,
     "metadata": {},
     "output_type": "execute_result"
    }
   ],
   "source": [
    "cm_dt = confusion_matrix(y_test,y_pred_dt)\n",
    "cm_dt"
   ]
  },
  {
   "cell_type": "code",
   "execution_count": 48,
   "metadata": {},
   "outputs": [
    {
     "name": "stdout",
     "output_type": "stream",
     "text": [
      "Accuracy is 97.94 %\n",
      "Standard Deviation is 1.44 %\n"
     ]
    }
   ],
   "source": [
    "from sklearn.model_selection import cross_val_score\n",
    "accuracies_dt = cross_val_score(estimator=classifier_dt,X=x_train,y=y_train,cv=10)\n",
    "print(\"Accuracy is {:.2f} %\".format(accuracies_dt.mean()*100))\n",
    "print(\"Standard Deviation is {:.2f} %\".format(accuracies_dt.std()*100))"
   ]
  },
  {
   "cell_type": "code",
   "execution_count": 49,
   "metadata": {},
   "outputs": [
    {
     "data": {
      "text/html": [
       "<div>\n",
       "<style scoped>\n",
       "    .dataframe tbody tr th:only-of-type {\n",
       "        vertical-align: middle;\n",
       "    }\n",
       "\n",
       "    .dataframe tbody tr th {\n",
       "        vertical-align: top;\n",
       "    }\n",
       "\n",
       "    .dataframe thead th {\n",
       "        text-align: right;\n",
       "    }\n",
       "</style>\n",
       "<table border=\"1\" class=\"dataframe\">\n",
       "  <thead>\n",
       "    <tr style=\"text-align: right;\">\n",
       "      <th></th>\n",
       "      <th>Model</th>\n",
       "      <th>Accuracy</th>\n",
       "      <th>Average Accuracy</th>\n",
       "    </tr>\n",
       "  </thead>\n",
       "  <tbody>\n",
       "    <tr>\n",
       "      <th>0</th>\n",
       "      <td>LogisticRegression</td>\n",
       "      <td>87.341772</td>\n",
       "      <td>87.633849</td>\n",
       "    </tr>\n",
       "    <tr>\n",
       "      <th>1</th>\n",
       "      <td>Decision Tree</td>\n",
       "      <td>95.569620</td>\n",
       "      <td>97.936028</td>\n",
       "    </tr>\n",
       "  </tbody>\n",
       "</table>\n",
       "</div>"
      ],
      "text/plain": [
       "                Model   Accuracy  Average Accuracy\n",
       "0  LogisticRegression  87.341772         87.633849\n",
       "1       Decision Tree  95.569620         97.936028"
      ]
     },
     "execution_count": 49,
     "metadata": {},
     "output_type": "execute_result"
    }
   ],
   "source": [
    "result_dt = pd.DataFrame([[\"Decision Tree\",acc_dt*100,accuracies_dt.mean()*100]],columns=[\"Model\",\"Accuracy\",\"Average Accuracy\"])\n",
    "result = result.append(result_dt,ignore_index=True)\n",
    "result"
   ]
  },
  {
   "cell_type": "markdown",
   "metadata": {},
   "source": [
    "#Random Forest"
   ]
  },
  {
   "cell_type": "code",
   "execution_count": 50,
   "metadata": {},
   "outputs": [
    {
     "data": {
      "text/plain": [
       "RandomForestClassifier(bootstrap=True, class_weight=None, criterion='gini',\n",
       "            max_depth=None, max_features='auto', max_leaf_nodes=None,\n",
       "            min_impurity_decrease=0.0, min_impurity_split=None,\n",
       "            min_samples_leaf=1, min_samples_split=2,\n",
       "            min_weight_fraction_leaf=0.0, n_estimators=10, n_jobs=None,\n",
       "            oob_score=False, random_state=None, verbose=0,\n",
       "            warm_start=False)"
      ]
     },
     "execution_count": 50,
     "metadata": {},
     "output_type": "execute_result"
    }
   ],
   "source": [
    "from sklearn.ensemble import RandomForestClassifier\n",
    "classifier_rf = RandomForestClassifier()\n",
    "classifier_rf.fit(x_train,y_train)"
   ]
  },
  {
   "cell_type": "code",
   "execution_count": 51,
   "metadata": {},
   "outputs": [],
   "source": [
    "y_pred_rf = classifier_rf.predict(x_test)"
   ]
  },
  {
   "cell_type": "code",
   "execution_count": 52,
   "metadata": {},
   "outputs": [
    {
     "data": {
      "text/plain": [
       "0.9493670886075949"
      ]
     },
     "execution_count": 52,
     "metadata": {},
     "output_type": "execute_result"
    }
   ],
   "source": [
    "from sklearn.metrics import accuracy_score,confusion_matrix\n",
    "acc_rf = accuracy_score(y_test,y_pred_rf)\n",
    "acc_rf"
   ]
  },
  {
   "cell_type": "code",
   "execution_count": 53,
   "metadata": {},
   "outputs": [
    {
     "data": {
      "text/plain": [
       "array([[120,   2],\n",
       "       [  6,  30]], dtype=int64)"
      ]
     },
     "execution_count": 53,
     "metadata": {},
     "output_type": "execute_result"
    }
   ],
   "source": [
    "cm_rf = confusion_matrix(y_test,y_pred_rf)\n",
    "cm_rf"
   ]
  },
  {
   "cell_type": "code",
   "execution_count": 54,
   "metadata": {},
   "outputs": [
    {
     "name": "stdout",
     "output_type": "stream",
     "text": [
      "Accuracy is 97.32 %\n",
      "Standard Deviation is 1.98 %\n"
     ]
    }
   ],
   "source": [
    "from sklearn.model_selection import cross_val_score\n",
    "accuracies_rf = cross_val_score(estimator=classifier_rf,X=x_train,y=y_train,cv=10)\n",
    "print(\"Accuracy is {:.2f} %\".format(accuracies_rf.mean()*100))\n",
    "print(\"Standard Deviation is {:.2f} %\".format(accuracies_rf.std()*100))"
   ]
  },
  {
   "cell_type": "code",
   "execution_count": 55,
   "metadata": {},
   "outputs": [
    {
     "data": {
      "text/html": [
       "<div>\n",
       "<style scoped>\n",
       "    .dataframe tbody tr th:only-of-type {\n",
       "        vertical-align: middle;\n",
       "    }\n",
       "\n",
       "    .dataframe tbody tr th {\n",
       "        vertical-align: top;\n",
       "    }\n",
       "\n",
       "    .dataframe thead th {\n",
       "        text-align: right;\n",
       "    }\n",
       "</style>\n",
       "<table border=\"1\" class=\"dataframe\">\n",
       "  <thead>\n",
       "    <tr style=\"text-align: right;\">\n",
       "      <th></th>\n",
       "      <th>Model</th>\n",
       "      <th>Accuracy</th>\n",
       "      <th>Average Accuracy</th>\n",
       "    </tr>\n",
       "  </thead>\n",
       "  <tbody>\n",
       "    <tr>\n",
       "      <th>0</th>\n",
       "      <td>LogisticRegression</td>\n",
       "      <td>87.341772</td>\n",
       "      <td>87.633849</td>\n",
       "    </tr>\n",
       "    <tr>\n",
       "      <th>1</th>\n",
       "      <td>Decision Tree</td>\n",
       "      <td>95.569620</td>\n",
       "      <td>97.936028</td>\n",
       "    </tr>\n",
       "    <tr>\n",
       "      <th>2</th>\n",
       "      <td>Random Forest</td>\n",
       "      <td>94.936709</td>\n",
       "      <td>97.316068</td>\n",
       "    </tr>\n",
       "  </tbody>\n",
       "</table>\n",
       "</div>"
      ],
      "text/plain": [
       "                Model   Accuracy  Average Accuracy\n",
       "0  LogisticRegression  87.341772         87.633849\n",
       "1       Decision Tree  95.569620         97.936028\n",
       "2       Random Forest  94.936709         97.316068"
      ]
     },
     "execution_count": 55,
     "metadata": {},
     "output_type": "execute_result"
    }
   ],
   "source": [
    "result_rf = pd.DataFrame([[\"Random Forest\",acc_rf*100,accuracies_rf.mean()*100]],columns=[\"Model\",\"Accuracy\",\"Average Accuracy\"])\n",
    "result = result.append(result_rf,ignore_index=True)\n",
    "result"
   ]
  },
  {
   "cell_type": "markdown",
   "metadata": {},
   "source": [
    "#SVM model"
   ]
  },
  {
   "cell_type": "code",
   "execution_count": 56,
   "metadata": {},
   "outputs": [
    {
     "data": {
      "text/plain": [
       "SVC(C=1.0, cache_size=200, class_weight=None, coef0=0.0,\n",
       "  decision_function_shape='ovr', degree=3, gamma='auto_deprecated',\n",
       "  kernel='rbf', max_iter=-1, probability=False, random_state=None,\n",
       "  shrinking=True, tol=0.001, verbose=False)"
      ]
     },
     "execution_count": 56,
     "metadata": {},
     "output_type": "execute_result"
    }
   ],
   "source": [
    "from sklearn.svm import SVC\n",
    "classifier_svc = SVC()\n",
    "classifier_svc.fit(x_train,y_train)"
   ]
  },
  {
   "cell_type": "code",
   "execution_count": 57,
   "metadata": {},
   "outputs": [],
   "source": [
    "y_pred_svm = classifier_svc.predict(x_test)"
   ]
  },
  {
   "cell_type": "code",
   "execution_count": 58,
   "metadata": {},
   "outputs": [
    {
     "data": {
      "text/plain": [
       "0.9050632911392406"
      ]
     },
     "execution_count": 58,
     "metadata": {},
     "output_type": "execute_result"
    }
   ],
   "source": [
    "from sklearn.metrics import accuracy_score,confusion_matrix\n",
    "acc_svm = accuracy_score(y_test,y_pred_svm)\n",
    "acc_svm"
   ]
  },
  {
   "cell_type": "code",
   "execution_count": 59,
   "metadata": {},
   "outputs": [
    {
     "data": {
      "text/plain": [
       "array([[115,   7],\n",
       "       [  8,  28]], dtype=int64)"
      ]
     },
     "execution_count": 59,
     "metadata": {},
     "output_type": "execute_result"
    }
   ],
   "source": [
    "cm_svm = confusion_matrix(y_test,y_pred_svm)\n",
    "cm_svm"
   ]
  },
  {
   "cell_type": "code",
   "execution_count": 60,
   "metadata": {},
   "outputs": [
    {
     "name": "stdout",
     "output_type": "stream",
     "text": [
      "Accuracy is 93.50 %\n",
      "Standard Deviation is 2.94 %\n"
     ]
    }
   ],
   "source": [
    "from sklearn.model_selection import cross_val_score\n",
    "accuracies_svm = cross_val_score(estimator=classifier_svc,X=x_train,y=y_train,cv=10)\n",
    "print(\"Accuracy is {:.2f} %\".format(accuracies_svm.mean()*100))\n",
    "print(\"Standard Deviation is {:.2f} %\".format(accuracies_svm.std()*100))"
   ]
  },
  {
   "cell_type": "code",
   "execution_count": 61,
   "metadata": {},
   "outputs": [
    {
     "data": {
      "text/html": [
       "<div>\n",
       "<style scoped>\n",
       "    .dataframe tbody tr th:only-of-type {\n",
       "        vertical-align: middle;\n",
       "    }\n",
       "\n",
       "    .dataframe tbody tr th {\n",
       "        vertical-align: top;\n",
       "    }\n",
       "\n",
       "    .dataframe thead th {\n",
       "        text-align: right;\n",
       "    }\n",
       "</style>\n",
       "<table border=\"1\" class=\"dataframe\">\n",
       "  <thead>\n",
       "    <tr style=\"text-align: right;\">\n",
       "      <th></th>\n",
       "      <th>Model</th>\n",
       "      <th>Accuracy</th>\n",
       "      <th>Average Accuracy</th>\n",
       "    </tr>\n",
       "  </thead>\n",
       "  <tbody>\n",
       "    <tr>\n",
       "      <th>0</th>\n",
       "      <td>LogisticRegression</td>\n",
       "      <td>87.341772</td>\n",
       "      <td>87.633849</td>\n",
       "    </tr>\n",
       "    <tr>\n",
       "      <th>1</th>\n",
       "      <td>Decision Tree</td>\n",
       "      <td>95.569620</td>\n",
       "      <td>97.936028</td>\n",
       "    </tr>\n",
       "    <tr>\n",
       "      <th>2</th>\n",
       "      <td>Random Forest</td>\n",
       "      <td>94.936709</td>\n",
       "      <td>97.316068</td>\n",
       "    </tr>\n",
       "    <tr>\n",
       "      <th>3</th>\n",
       "      <td>SVM</td>\n",
       "      <td>94.936709</td>\n",
       "      <td>93.503104</td>\n",
       "    </tr>\n",
       "  </tbody>\n",
       "</table>\n",
       "</div>"
      ],
      "text/plain": [
       "                Model   Accuracy  Average Accuracy\n",
       "0  LogisticRegression  87.341772         87.633849\n",
       "1       Decision Tree  95.569620         97.936028\n",
       "2       Random Forest  94.936709         97.316068\n",
       "3                 SVM  94.936709         93.503104"
      ]
     },
     "execution_count": 61,
     "metadata": {},
     "output_type": "execute_result"
    }
   ],
   "source": [
    "result_svm = pd.DataFrame([[\"SVM\",acc_rf*100,accuracies_svm.mean()*100]],columns=[\"Model\",\"Accuracy\",\"Average Accuracy\"])\n",
    "result = result.append(result_svm,ignore_index=True)\n",
    "result"
   ]
  },
  {
   "cell_type": "markdown",
   "metadata": {},
   "source": [
    "# Randomized Search to find best parameter"
   ]
  },
  {
   "cell_type": "code",
   "execution_count": 62,
   "metadata": {},
   "outputs": [],
   "source": [
    "from sklearn.model_selection import RandomizedSearchCV"
   ]
  },
  {
   "cell_type": "code",
   "execution_count": 63,
   "metadata": {},
   "outputs": [],
   "source": [
    "parameters = {\n",
    "    'criterion':['gini','entropy'],\n",
    "    'min_samples_leaf':[1,2,5,10,15,20],\n",
    "    'max_features':['auto','sqrt','log2',None],\n",
    "    'class_weight':['balanced',None]\n",
    "}"
   ]
  },
  {
   "cell_type": "code",
   "execution_count": 64,
   "metadata": {},
   "outputs": [],
   "source": [
    "random_cv = RandomizedSearchCV(estimator=classifier_dt,param_distributions=parameters,n_iter=10,scoring= 'roc_auc',n_jobs=-1,cv=5,verbose=3)"
   ]
  },
  {
   "cell_type": "code",
   "execution_count": 65,
   "metadata": {},
   "outputs": [
    {
     "name": "stdout",
     "output_type": "stream",
     "text": [
      "Fitting 5 folds for each of 10 candidates, totalling 50 fits\n"
     ]
    },
    {
     "name": "stderr",
     "output_type": "stream",
     "text": [
      "[Parallel(n_jobs=-1)]: Using backend LokyBackend with 4 concurrent workers.\n",
      "[Parallel(n_jobs=-1)]: Done  24 tasks      | elapsed:    5.0s\n",
      "[Parallel(n_jobs=-1)]: Done  43 out of  50 | elapsed:    5.1s remaining:    0.7s\n",
      "[Parallel(n_jobs=-1)]: Done  50 out of  50 | elapsed:    5.1s finished\n"
     ]
    },
    {
     "data": {
      "text/plain": [
       "RandomizedSearchCV(cv=5, error_score='raise-deprecating',\n",
       "          estimator=DecisionTreeClassifier(class_weight=None, criterion='gini', max_depth=None,\n",
       "            max_features=None, max_leaf_nodes=None,\n",
       "            min_impurity_decrease=0.0, min_impurity_split=None,\n",
       "            min_samples_leaf=1, min_samples_split=2,\n",
       "            min_weight_fraction_leaf=0.0, presort=False, random_state=None,\n",
       "            splitter='best'),\n",
       "          fit_params=None, iid='warn', n_iter=10, n_jobs=-1,\n",
       "          param_distributions={'criterion': ['gini', 'entropy'], 'min_samples_leaf': [1, 2, 5, 10, 15, 20], 'max_features': ['auto', 'sqrt', 'log2', None], 'class_weight': ['balanced', None]},\n",
       "          pre_dispatch='2*n_jobs', random_state=None, refit=True,\n",
       "          return_train_score='warn', scoring='roc_auc', verbose=3)"
      ]
     },
     "execution_count": 65,
     "metadata": {},
     "output_type": "execute_result"
    }
   ],
   "source": [
    "random_cv.fit(x_train,y_train)"
   ]
  },
  {
   "cell_type": "code",
   "execution_count": 66,
   "metadata": {},
   "outputs": [
    {
     "data": {
      "text/plain": [
       "DecisionTreeClassifier(class_weight=None, criterion='gini', max_depth=None,\n",
       "            max_features=None, max_leaf_nodes=None,\n",
       "            min_impurity_decrease=0.0, min_impurity_split=None,\n",
       "            min_samples_leaf=15, min_samples_split=2,\n",
       "            min_weight_fraction_leaf=0.0, presort=False, random_state=None,\n",
       "            splitter='best')"
      ]
     },
     "execution_count": 66,
     "metadata": {},
     "output_type": "execute_result"
    }
   ],
   "source": [
    "random_cv.best_estimator_"
   ]
  },
  {
   "cell_type": "code",
   "execution_count": 67,
   "metadata": {},
   "outputs": [
    {
     "data": {
      "text/plain": [
       "{'min_samples_leaf': 15,\n",
       " 'max_features': None,\n",
       " 'criterion': 'gini',\n",
       " 'class_weight': None}"
      ]
     },
     "execution_count": 67,
     "metadata": {},
     "output_type": "execute_result"
    }
   ],
   "source": [
    "random_cv.best_params_"
   ]
  },
  {
   "cell_type": "code",
   "execution_count": 68,
   "metadata": {},
   "outputs": [
    {
     "data": {
      "text/plain": [
       "98.90467504766461"
      ]
     },
     "execution_count": 68,
     "metadata": {},
     "output_type": "execute_result"
    }
   ],
   "source": [
    "random_cv.best_score_ * 100"
   ]
  },
  {
   "cell_type": "markdown",
   "metadata": {},
   "source": [
    "# Final Model"
   ]
  },
  {
   "cell_type": "code",
   "execution_count": 70,
   "metadata": {},
   "outputs": [
    {
     "data": {
      "text/plain": [
       "DecisionTreeClassifier(class_weight=None, criterion='gini', max_depth=None,\n",
       "            max_features=None, max_leaf_nodes=None,\n",
       "            min_impurity_decrease=0.0, min_impurity_split=None,\n",
       "            min_samples_leaf=15, min_samples_split=2,\n",
       "            min_weight_fraction_leaf=0.0, presort=False, random_state=None,\n",
       "            splitter='best')"
      ]
     },
     "execution_count": 70,
     "metadata": {},
     "output_type": "execute_result"
    }
   ],
   "source": [
    "from sklearn.tree import DecisionTreeClassifier\n",
    "classifier_dt_final = DecisionTreeClassifier(class_weight=None, criterion='gini', max_depth=None,\n",
    "            max_features=None, max_leaf_nodes=None,\n",
    "            min_impurity_decrease=0.0, min_impurity_split=None,\n",
    "            min_samples_leaf=15, min_samples_split=2,\n",
    "            min_weight_fraction_leaf=0.0, presort=False, random_state=None,\n",
    "            splitter='best')\n",
    "classifier_dt_final.fit(x_train,y_train)"
   ]
  },
  {
   "cell_type": "code",
   "execution_count": 71,
   "metadata": {},
   "outputs": [],
   "source": [
    "y_pred_dt_final = classifier_dt_final.predict(x_test)"
   ]
  },
  {
   "cell_type": "code",
   "execution_count": 72,
   "metadata": {},
   "outputs": [
    {
     "data": {
      "text/plain": [
       "0.9620253164556962"
      ]
     },
     "execution_count": 72,
     "metadata": {},
     "output_type": "execute_result"
    }
   ],
   "source": [
    "from sklearn.metrics import accuracy_score,confusion_matrix\n",
    "acc_dt_final = accuracy_score(y_test,y_pred_dt_final)\n",
    "acc_dt_final"
   ]
  },
  {
   "cell_type": "code",
   "execution_count": 73,
   "metadata": {},
   "outputs": [
    {
     "data": {
      "text/plain": [
       "array([[117,   5],\n",
       "       [  1,  35]], dtype=int64)"
      ]
     },
     "execution_count": 73,
     "metadata": {},
     "output_type": "execute_result"
    }
   ],
   "source": [
    "cm_dt_final = confusion_matrix(y_test,y_pred_dt_final)\n",
    "cm_dt_final"
   ]
  },
  {
   "cell_type": "code",
   "execution_count": 74,
   "metadata": {},
   "outputs": [
    {
     "data": {
      "text/html": [
       "<div>\n",
       "<style scoped>\n",
       "    .dataframe tbody tr th:only-of-type {\n",
       "        vertical-align: middle;\n",
       "    }\n",
       "\n",
       "    .dataframe tbody tr th {\n",
       "        vertical-align: top;\n",
       "    }\n",
       "\n",
       "    .dataframe thead th {\n",
       "        text-align: right;\n",
       "    }\n",
       "</style>\n",
       "<table border=\"1\" class=\"dataframe\">\n",
       "  <thead>\n",
       "    <tr style=\"text-align: right;\">\n",
       "      <th></th>\n",
       "      <th>Model</th>\n",
       "      <th>Accuracy</th>\n",
       "      <th>Average Accuracy</th>\n",
       "    </tr>\n",
       "  </thead>\n",
       "  <tbody>\n",
       "    <tr>\n",
       "      <th>0</th>\n",
       "      <td>LogisticRegression</td>\n",
       "      <td>87.341772</td>\n",
       "      <td>87.6338</td>\n",
       "    </tr>\n",
       "    <tr>\n",
       "      <th>1</th>\n",
       "      <td>Decision Tree</td>\n",
       "      <td>95.569620</td>\n",
       "      <td>97.936</td>\n",
       "    </tr>\n",
       "    <tr>\n",
       "      <th>2</th>\n",
       "      <td>Random Forest</td>\n",
       "      <td>94.936709</td>\n",
       "      <td>97.3161</td>\n",
       "    </tr>\n",
       "    <tr>\n",
       "      <th>3</th>\n",
       "      <td>SVM</td>\n",
       "      <td>94.936709</td>\n",
       "      <td>93.5031</td>\n",
       "    </tr>\n",
       "    <tr>\n",
       "      <th>4</th>\n",
       "      <td>Final Selected Model (Decision Tree)</td>\n",
       "      <td>96.202532</td>\n",
       "      <td>None</td>\n",
       "    </tr>\n",
       "  </tbody>\n",
       "</table>\n",
       "</div>"
      ],
      "text/plain": [
       "                                  Model   Accuracy Average Accuracy\n",
       "0                    LogisticRegression  87.341772          87.6338\n",
       "1                         Decision Tree  95.569620           97.936\n",
       "2                         Random Forest  94.936709          97.3161\n",
       "3                                   SVM  94.936709          93.5031\n",
       "4  Final Selected Model (Decision Tree)  96.202532             None"
      ]
     },
     "execution_count": 74,
     "metadata": {},
     "output_type": "execute_result"
    }
   ],
   "source": [
    "result_final_DT = pd.DataFrame([[\"Final Selected Model (Decision Tree)\",acc_dt_final*100,None]],columns=[\"Model\",\"Accuracy\",\"Average Accuracy\"])\n",
    "result = result.append(result_final_DT,ignore_index=True)\n",
    "result"
   ]
  },
  {
   "cell_type": "markdown",
   "metadata": {},
   "source": [
    "# Prediction on staff utlz latest 17-18_masked dataset"
   ]
  },
  {
   "cell_type": "code",
   "execution_count": 75,
   "metadata": {},
   "outputs": [],
   "source": [
    "dataset_to_pred = pd.read_csv(r'staff utlz latest 17-18_masked.csv')"
   ]
  },
  {
   "cell_type": "code",
   "execution_count": 76,
   "metadata": {},
   "outputs": [
    {
     "data": {
      "text/html": [
       "<div>\n",
       "<style scoped>\n",
       "    .dataframe tbody tr th:only-of-type {\n",
       "        vertical-align: middle;\n",
       "    }\n",
       "\n",
       "    .dataframe tbody tr th {\n",
       "        vertical-align: top;\n",
       "    }\n",
       "\n",
       "    .dataframe thead th {\n",
       "        text-align: right;\n",
       "    }\n",
       "</style>\n",
       "<table border=\"1\" class=\"dataframe\">\n",
       "  <thead>\n",
       "    <tr style=\"text-align: right;\">\n",
       "      <th></th>\n",
       "      <th>Employee No</th>\n",
       "      <th>Profit Center</th>\n",
       "      <th>Employee Name</th>\n",
       "      <th>Employee Position</th>\n",
       "      <th>Employee Location</th>\n",
       "      <th>People Group</th>\n",
       "      <th>Employee Category</th>\n",
       "      <th>Supervisor name</th>\n",
       "      <th>Join Date</th>\n",
       "      <th>Current Status</th>\n",
       "      <th>Total Hours</th>\n",
       "      <th>Total Available Hours</th>\n",
       "      <th>Work Hours</th>\n",
       "      <th>Leave Hours</th>\n",
       "      <th>Training Hours</th>\n",
       "      <th>BD Hours</th>\n",
       "      <th>NC Hours</th>\n",
       "      <th>Utilization%</th>\n",
       "    </tr>\n",
       "  </thead>\n",
       "  <tbody>\n",
       "    <tr>\n",
       "      <th>0</th>\n",
       "      <td>1</td>\n",
       "      <td>PC - 1</td>\n",
       "      <td>Rochette Jilleen</td>\n",
       "      <td>Level 1</td>\n",
       "      <td>Location 3</td>\n",
       "      <td>Client Service Staff</td>\n",
       "      <td>SVP/VP</td>\n",
       "      <td>Idalina Lauraine</td>\n",
       "      <td>30-09-2000</td>\n",
       "      <td>Active</td>\n",
       "      <td>2,080</td>\n",
       "      <td>1864.5</td>\n",
       "      <td>448.00</td>\n",
       "      <td>188.00</td>\n",
       "      <td>27.50</td>\n",
       "      <td>1,431.50</td>\n",
       "      <td>18.00</td>\n",
       "      <td>24.03%</td>\n",
       "    </tr>\n",
       "    <tr>\n",
       "      <th>1</th>\n",
       "      <td>2</td>\n",
       "      <td>PC - 2</td>\n",
       "      <td>Daryl Natalina</td>\n",
       "      <td>Level 2</td>\n",
       "      <td>Location 7</td>\n",
       "      <td>Client Service Staff</td>\n",
       "      <td>SVP/VP</td>\n",
       "      <td>Idalina Lauraine</td>\n",
       "      <td>31-05-1999</td>\n",
       "      <td>Active</td>\n",
       "      <td>2,080</td>\n",
       "      <td>1868</td>\n",
       "      <td>722.00</td>\n",
       "      <td>208.00</td>\n",
       "      <td>4.00</td>\n",
       "      <td>600.50</td>\n",
       "      <td>596.50</td>\n",
       "      <td>38.65%</td>\n",
       "    </tr>\n",
       "    <tr>\n",
       "      <th>2</th>\n",
       "      <td>3</td>\n",
       "      <td>PC - 2</td>\n",
       "      <td>Annnora Gabrielle</td>\n",
       "      <td>Level 2</td>\n",
       "      <td>Location 7</td>\n",
       "      <td>Client Service Staff</td>\n",
       "      <td>SVP/VP</td>\n",
       "      <td>Idalina Lauraine</td>\n",
       "      <td>31-01-2001</td>\n",
       "      <td>Active</td>\n",
       "      <td>2,080</td>\n",
       "      <td>1720</td>\n",
       "      <td>1,173.00</td>\n",
       "      <td>338.00</td>\n",
       "      <td>22.00</td>\n",
       "      <td>463.50</td>\n",
       "      <td>357.50</td>\n",
       "      <td>68.20%</td>\n",
       "    </tr>\n",
       "    <tr>\n",
       "      <th>3</th>\n",
       "      <td>4</td>\n",
       "      <td>PC - 3</td>\n",
       "      <td>Barbee Joey</td>\n",
       "      <td>Level 2</td>\n",
       "      <td>Location 1</td>\n",
       "      <td>Client Service Staff</td>\n",
       "      <td>Resigned</td>\n",
       "      <td>Idalina Lauraine</td>\n",
       "      <td>30-09-2000</td>\n",
       "      <td>Resigned</td>\n",
       "      <td>1,840</td>\n",
       "      <td>1640.5</td>\n",
       "      <td>273.00</td>\n",
       "      <td>196.00</td>\n",
       "      <td>3.50</td>\n",
       "      <td>1,361.00</td>\n",
       "      <td>24.00</td>\n",
       "      <td>16.64%</td>\n",
       "    </tr>\n",
       "    <tr>\n",
       "      <th>4</th>\n",
       "      <td>6</td>\n",
       "      <td>PC - 1</td>\n",
       "      <td>Jordanna Danya</td>\n",
       "      <td>Level 2</td>\n",
       "      <td>Location 3</td>\n",
       "      <td>Client Service Staff</td>\n",
       "      <td>SVP/VP</td>\n",
       "      <td>Idalina Lauraine</td>\n",
       "      <td>30-06-2002</td>\n",
       "      <td>Active</td>\n",
       "      <td>2,080</td>\n",
       "      <td>1812</td>\n",
       "      <td>428.00</td>\n",
       "      <td>260.00</td>\n",
       "      <td>8.00</td>\n",
       "      <td>1,237.00</td>\n",
       "      <td>470.00</td>\n",
       "      <td>23.62%</td>\n",
       "    </tr>\n",
       "  </tbody>\n",
       "</table>\n",
       "</div>"
      ],
      "text/plain": [
       "  Employee No Profit Center      Employee Name Employee Position  \\\n",
       "0           1        PC - 1   Rochette Jilleen           Level 1   \n",
       "1           2        PC - 2     Daryl Natalina           Level 2   \n",
       "2           3        PC - 2  Annnora Gabrielle           Level 2   \n",
       "3           4        PC - 3        Barbee Joey           Level 2   \n",
       "4           6        PC - 1     Jordanna Danya           Level 2   \n",
       "\n",
       "  Employee Location          People Group Employee Category   Supervisor name  \\\n",
       "0        Location 3  Client Service Staff            SVP/VP  Idalina Lauraine   \n",
       "1        Location 7  Client Service Staff            SVP/VP  Idalina Lauraine   \n",
       "2        Location 7  Client Service Staff            SVP/VP  Idalina Lauraine   \n",
       "3        Location 1  Client Service Staff          Resigned  Idalina Lauraine   \n",
       "4        Location 3  Client Service Staff            SVP/VP  Idalina Lauraine   \n",
       "\n",
       "    Join Date Current Status Total Hours Total Available Hours Work Hours  \\\n",
       "0  30-09-2000         Active       2,080                1864.5     448.00   \n",
       "1  31-05-1999         Active       2,080                  1868     722.00   \n",
       "2  31-01-2001         Active       2,080                  1720   1,173.00   \n",
       "3  30-09-2000       Resigned       1,840                1640.5     273.00   \n",
       "4  30-06-2002         Active       2,080                  1812     428.00   \n",
       "\n",
       "  Leave Hours Training Hours  BD Hours NC Hours Utilization%  \n",
       "0      188.00          27.50  1,431.50    18.00       24.03%  \n",
       "1      208.00           4.00    600.50   596.50       38.65%  \n",
       "2      338.00          22.00    463.50   357.50       68.20%  \n",
       "3      196.00           3.50  1,361.00    24.00       16.64%  \n",
       "4      260.00           8.00  1,237.00   470.00       23.62%  "
      ]
     },
     "execution_count": 76,
     "metadata": {},
     "output_type": "execute_result"
    }
   ],
   "source": [
    "dataset_to_pred = dataset_to_pred.drop(columns = dataset_to_pred.columns.tolist()[10:-8])\n",
    "df_pred = dataset_to_pred[:].values\n",
    "dataset_to_pred=pd.DataFrame(df_pred[1:],columns = df_pred[0])\n",
    "dataset_to_pred.head(5)"
   ]
  },
  {
   "cell_type": "code",
   "execution_count": 77,
   "metadata": {},
   "outputs": [
    {
     "data": {
      "text/plain": [
       "Active        796\n",
       "Resigned      145\n",
       "New Joiner     24\n",
       "Secondment      6\n",
       "Sabbatical      2\n",
       "Name: Current Status, dtype: int64"
      ]
     },
     "execution_count": 77,
     "metadata": {},
     "output_type": "execute_result"
    }
   ],
   "source": [
    "dataset_to_pred['Current Status'].value_counts()"
   ]
  },
  {
   "cell_type": "code",
   "execution_count": 78,
   "metadata": {},
   "outputs": [],
   "source": [
    "dataset_to_pred = dataset_to_pred.replace(['Secondment','New Joiner','Sabbatical'],'Active')"
   ]
  },
  {
   "cell_type": "code",
   "execution_count": 79,
   "metadata": {},
   "outputs": [
    {
     "data": {
      "text/plain": [
       "Active      828\n",
       "Resigned    145\n",
       "Name: Current Status, dtype: int64"
      ]
     },
     "execution_count": 79,
     "metadata": {},
     "output_type": "execute_result"
    }
   ],
   "source": [
    "dataset_to_pred['Current Status'].value_counts()"
   ]
  },
  {
   "cell_type": "code",
   "execution_count": 80,
   "metadata": {},
   "outputs": [
    {
     "data": {
      "image/png": "[encoded data removed]",
      "text/plain": [
       "<Figure size 432x288 with 1 Axes>"
      ]
     },
     "metadata": {
      "needs_background": "light"
     },
     "output_type": "display_data"
    }
   ],
   "source": [
    "sns.countplot(dataset_to_pred['Current Status'])\n",
    "plt.show()"
   ]
  },
  {
   "cell_type": "code",
   "execution_count": 81,
   "metadata": {},
   "outputs": [],
   "source": [
    "dataset_to_pred.columns=dataset_to_pred.columns.str.replace('%','')\n",
    "dataset_to_pred.columns=dataset_to_pred.columns.str.replace(' ','')\n",
    "dataset_to_pred[\"Utilization\"] = dataset_to_pred[\"Utilization\"].str.strip('-%')"
   ]
  },
  {
   "cell_type": "code",
   "execution_count": 82,
   "metadata": {},
   "outputs": [],
   "source": [
    "dataset_to_pred[\"TotalHours\"] = dataset_to_pred[\"TotalHours\"].str.replace(\",\",\"\").astype(float)\n",
    "dataset_to_pred[\"TotalAvailableHours\"] = dataset_to_pred[\"TotalAvailableHours\"].str.replace(\",\",\"\").astype(float)\n",
    "dataset_to_pred[\"WorkHours\"] = dataset_to_pred[\"WorkHours\"].str.replace(\",\",\"\").astype(float)\n",
    "dataset_to_pred[\"LeaveHours\"] = dataset_to_pred[\"LeaveHours\"].str.replace(\",\",\"\").astype(float)\n",
    "dataset_to_pred[\"TrainingHours\"] = dataset_to_pred[\"TrainingHours\"].str.replace(\",\",\"\").astype(float)\n",
    "dataset_to_pred[\"BDHours\"] = dataset_to_pred[\"BDHours\"].str.replace(\",\",\"\").astype(float)\n",
    "dataset_to_pred[\"NCHours\"] = dataset_to_pred[\"NCHours\"].str.replace(\",\",\"\").astype(float)\n",
    "dataset_to_pred[\"Utilization\"] = pd.to_numeric(dataset_to_pred[\"Utilization\"])"
   ]
  },
  {
   "cell_type": "code",
   "execution_count": 83,
   "metadata": {},
   "outputs": [],
   "source": [
    "#dataset_to_pred_active is dataset which has employee with current status as Active\n",
    "dataset_to_pred_active = dataset_to_pred[dataset_to_pred.CurrentStatus != 'Resigned']"
   ]
  },
  {
   "cell_type": "code",
   "execution_count": 84,
   "metadata": {},
   "outputs": [],
   "source": [
    "dataset_to_pred_active = dataset_to_pred_active.drop(columns =['ProfitCenter','EmployeeLocation','EmployeeNo','JoinDate'] )"
   ]
  },
  {
   "cell_type": "code",
   "execution_count": 85,
   "metadata": {},
   "outputs": [
    {
     "data": {
      "text/html": [
       "<div>\n",
       "<style scoped>\n",
       "    .dataframe tbody tr th:only-of-type {\n",
       "        vertical-align: middle;\n",
       "    }\n",
       "\n",
       "    .dataframe tbody tr th {\n",
       "        vertical-align: top;\n",
       "    }\n",
       "\n",
       "    .dataframe thead th {\n",
       "        text-align: right;\n",
       "    }\n",
       "</style>\n",
       "<table border=\"1\" class=\"dataframe\">\n",
       "  <thead>\n",
       "    <tr style=\"text-align: right;\">\n",
       "      <th></th>\n",
       "      <th>EmployeeName</th>\n",
       "      <th>EmployeePosition</th>\n",
       "      <th>PeopleGroup</th>\n",
       "      <th>EmployeeCategory</th>\n",
       "      <th>Supervisorname</th>\n",
       "      <th>CurrentStatus</th>\n",
       "      <th>TotalHours</th>\n",
       "      <th>TotalAvailableHours</th>\n",
       "      <th>WorkHours</th>\n",
       "      <th>LeaveHours</th>\n",
       "      <th>TrainingHours</th>\n",
       "      <th>BDHours</th>\n",
       "      <th>NCHours</th>\n",
       "      <th>Utilization</th>\n",
       "    </tr>\n",
       "  </thead>\n",
       "  <tbody>\n",
       "    <tr>\n",
       "      <th>0</th>\n",
       "      <td>Rochette Jilleen</td>\n",
       "      <td>Level 1</td>\n",
       "      <td>Client Service Staff</td>\n",
       "      <td>SVP/VP</td>\n",
       "      <td>Idalina Lauraine</td>\n",
       "      <td>Active</td>\n",
       "      <td>2080.0</td>\n",
       "      <td>1864.5</td>\n",
       "      <td>448.0</td>\n",
       "      <td>188.0</td>\n",
       "      <td>27.5</td>\n",
       "      <td>1431.5</td>\n",
       "      <td>18.0</td>\n",
       "      <td>24.03</td>\n",
       "    </tr>\n",
       "    <tr>\n",
       "      <th>1</th>\n",
       "      <td>Daryl Natalina</td>\n",
       "      <td>Level 2</td>\n",
       "      <td>Client Service Staff</td>\n",
       "      <td>SVP/VP</td>\n",
       "      <td>Idalina Lauraine</td>\n",
       "      <td>Active</td>\n",
       "      <td>2080.0</td>\n",
       "      <td>1868.0</td>\n",
       "      <td>722.0</td>\n",
       "      <td>208.0</td>\n",
       "      <td>4.0</td>\n",
       "      <td>600.5</td>\n",
       "      <td>596.5</td>\n",
       "      <td>38.65</td>\n",
       "    </tr>\n",
       "    <tr>\n",
       "      <th>2</th>\n",
       "      <td>Annnora Gabrielle</td>\n",
       "      <td>Level 2</td>\n",
       "      <td>Client Service Staff</td>\n",
       "      <td>SVP/VP</td>\n",
       "      <td>Idalina Lauraine</td>\n",
       "      <td>Active</td>\n",
       "      <td>2080.0</td>\n",
       "      <td>1720.0</td>\n",
       "      <td>1173.0</td>\n",
       "      <td>338.0</td>\n",
       "      <td>22.0</td>\n",
       "      <td>463.5</td>\n",
       "      <td>357.5</td>\n",
       "      <td>68.20</td>\n",
       "    </tr>\n",
       "    <tr>\n",
       "      <th>4</th>\n",
       "      <td>Jordanna Danya</td>\n",
       "      <td>Level 2</td>\n",
       "      <td>Client Service Staff</td>\n",
       "      <td>SVP/VP</td>\n",
       "      <td>Idalina Lauraine</td>\n",
       "      <td>Active</td>\n",
       "      <td>2080.0</td>\n",
       "      <td>1812.0</td>\n",
       "      <td>428.0</td>\n",
       "      <td>260.0</td>\n",
       "      <td>8.0</td>\n",
       "      <td>1237.0</td>\n",
       "      <td>470.0</td>\n",
       "      <td>23.62</td>\n",
       "    </tr>\n",
       "    <tr>\n",
       "      <th>5</th>\n",
       "      <td>Irene Candis</td>\n",
       "      <td>Level 3</td>\n",
       "      <td>Client Service Staff</td>\n",
       "      <td>Confirmed Staff</td>\n",
       "      <td>Rochette Jilleen</td>\n",
       "      <td>Active</td>\n",
       "      <td>2080.0</td>\n",
       "      <td>1745.0</td>\n",
       "      <td>290.0</td>\n",
       "      <td>312.0</td>\n",
       "      <td>23.0</td>\n",
       "      <td>1455.0</td>\n",
       "      <td>24.0</td>\n",
       "      <td>16.62</td>\n",
       "    </tr>\n",
       "  </tbody>\n",
       "</table>\n",
       "</div>"
      ],
      "text/plain": [
       "        EmployeeName EmployeePosition           PeopleGroup EmployeeCategory  \\\n",
       "0   Rochette Jilleen          Level 1  Client Service Staff           SVP/VP   \n",
       "1     Daryl Natalina          Level 2  Client Service Staff           SVP/VP   \n",
       "2  Annnora Gabrielle          Level 2  Client Service Staff           SVP/VP   \n",
       "4     Jordanna Danya          Level 2  Client Service Staff           SVP/VP   \n",
       "5       Irene Candis          Level 3  Client Service Staff  Confirmed Staff   \n",
       "\n",
       "     Supervisorname CurrentStatus  TotalHours  TotalAvailableHours  WorkHours  \\\n",
       "0  Idalina Lauraine        Active      2080.0               1864.5      448.0   \n",
       "1  Idalina Lauraine        Active      2080.0               1868.0      722.0   \n",
       "2  Idalina Lauraine        Active      2080.0               1720.0     1173.0   \n",
       "4  Idalina Lauraine        Active      2080.0               1812.0      428.0   \n",
       "5  Rochette Jilleen        Active      2080.0               1745.0      290.0   \n",
       "\n",
       "   LeaveHours  TrainingHours  BDHours  NCHours  Utilization  \n",
       "0       188.0           27.5   1431.5     18.0        24.03  \n",
       "1       208.0            4.0    600.5    596.5        38.65  \n",
       "2       338.0           22.0    463.5    357.5        68.20  \n",
       "4       260.0            8.0   1237.0    470.0        23.62  \n",
       "5       312.0           23.0   1455.0     24.0        16.62  "
      ]
     },
     "execution_count": 85,
     "metadata": {},
     "output_type": "execute_result"
    }
   ],
   "source": [
    "dataset_to_pred_active.head(5)"
   ]
  },
  {
   "cell_type": "code",
   "execution_count": 86,
   "metadata": {},
   "outputs": [],
   "source": [
    "#copy dataset for future reference\n",
    "df = dataset_to_pred_active.copy()"
   ]
  },
  {
   "cell_type": "code",
   "execution_count": 87,
   "metadata": {},
   "outputs": [],
   "source": [
    "dataset_to_pred_active = dataset_to_pred_active.drop(columns = \"EmployeeName\")"
   ]
  },
  {
   "cell_type": "code",
   "execution_count": 88,
   "metadata": {},
   "outputs": [
    {
     "data": {
      "text/plain": [
       "EmployeePosition       0\n",
       "PeopleGroup            0\n",
       "EmployeeCategory       0\n",
       "Supervisorname         0\n",
       "CurrentStatus          0\n",
       "TotalHours             0\n",
       "TotalAvailableHours    0\n",
       "WorkHours              0\n",
       "LeaveHours             0\n",
       "TrainingHours          0\n",
       "BDHours                0\n",
       "NCHours                0\n",
       "Utilization            4\n",
       "dtype: int64"
      ]
     },
     "execution_count": 88,
     "metadata": {},
     "output_type": "execute_result"
    }
   ],
   "source": [
    "dataset_to_pred_active.isnull().sum()"
   ]
  },
  {
   "cell_type": "code",
   "execution_count": 89,
   "metadata": {},
   "outputs": [],
   "source": [
    "dataset_to_pred_active.Utilization.fillna(dataset_to_pred.Utilization.mean(),inplace=True)"
   ]
  },
  {
   "cell_type": "code",
   "execution_count": 92,
   "metadata": {},
   "outputs": [
    {
     "data": {
      "text/plain": [
       "False"
      ]
     },
     "execution_count": 92,
     "metadata": {},
     "output_type": "execute_result"
    }
   ],
   "source": [
    "dataset_to_pred_active.isnull().values.any()"
   ]
  },
  {
   "cell_type": "code",
   "execution_count": 94,
   "metadata": {},
   "outputs": [
    {
     "data": {
      "text/plain": [
       "True"
      ]
     },
     "execution_count": 94,
     "metadata": {},
     "output_type": "execute_result"
    }
   ],
   "source": [
    "#This is to check if dataset_to_pred_active and dataset has same number of features\n",
    "dataset_to_pred_active.shape[1] == dataset.shape[1]"
   ]
  },
  {
   "cell_type": "code",
   "execution_count": 95,
   "metadata": {},
   "outputs": [
    {
     "data": {
      "text/plain": [
       "EmployeePosition        object\n",
       "PeopleGroup             object\n",
       "EmployeeCategory        object\n",
       "Supervisorname          object\n",
       "CurrentStatus           object\n",
       "TotalHours             float64\n",
       "TotalAvailableHours    float64\n",
       "WorkHours              float64\n",
       "LeaveHours             float64\n",
       "TrainingHours          float64\n",
       "BDHours                float64\n",
       "NCHours                float64\n",
       "Utilization            float64\n",
       "dtype: object"
      ]
     },
     "execution_count": 95,
     "metadata": {},
     "output_type": "execute_result"
    }
   ],
   "source": [
    "dataset_to_pred_active.dtypes"
   ]
  },
  {
   "cell_type": "code",
   "execution_count": 96,
   "metadata": {},
   "outputs": [],
   "source": [
    "from sklearn.preprocessing import LabelEncoder\n",
    "le = LabelEncoder()\n",
    "for column in dataset_to_pred_active.columns:\n",
    "    if dataset_to_pred_active[column].dtype == 'object':\n",
    "        dataset_to_pred_active[column] = LabelEncoder().fit_transform(dataset_to_pred_active[column])\n",
    "    else:\n",
    "        pass"
   ]
  },
  {
   "cell_type": "code",
   "execution_count": 97,
   "metadata": {},
   "outputs": [],
   "source": [
    "#independent variable of dataset_to_pred_active\n",
    "x_to_pred = dataset_to_pred_active.drop(columns='CurrentStatus')"
   ]
  },
  {
   "cell_type": "code",
   "execution_count": 98,
   "metadata": {},
   "outputs": [],
   "source": [
    "y_pred_17_18_data = classifier_dt_final.predict(sc.transform(x_to_pred))"
   ]
  },
  {
   "cell_type": "code",
   "execution_count": 99,
   "metadata": {},
   "outputs": [],
   "source": [
    "y_pred_17_18_data_expected = pd.DataFrame({\"Predicted\":y_pred_17_18_data})"
   ]
  },
  {
   "cell_type": "code",
   "execution_count": 100,
   "metadata": {},
   "outputs": [
    {
     "data": {
      "text/html": [
       "<div>\n",
       "<style scoped>\n",
       "    .dataframe tbody tr th:only-of-type {\n",
       "        vertical-align: middle;\n",
       "    }\n",
       "\n",
       "    .dataframe tbody tr th {\n",
       "        vertical-align: top;\n",
       "    }\n",
       "\n",
       "    .dataframe thead th {\n",
       "        text-align: right;\n",
       "    }\n",
       "</style>\n",
       "<table border=\"1\" class=\"dataframe\">\n",
       "  <thead>\n",
       "    <tr style=\"text-align: right;\">\n",
       "      <th></th>\n",
       "      <th>Predicted</th>\n",
       "    </tr>\n",
       "  </thead>\n",
       "  <tbody>\n",
       "    <tr>\n",
       "      <th>734</th>\n",
       "      <td>1</td>\n",
       "    </tr>\n",
       "    <tr>\n",
       "      <th>792</th>\n",
       "      <td>1</td>\n",
       "    </tr>\n",
       "  </tbody>\n",
       "</table>\n",
       "</div>"
      ],
      "text/plain": [
       "     Predicted\n",
       "734          1\n",
       "792          1"
      ]
     },
     "execution_count": 100,
     "metadata": {},
     "output_type": "execute_result"
    }
   ],
   "source": [
    "EmployeeWithPredictionAsResigned = y_pred_17_18_data_expected[y_pred_17_18_data_expected[\"Predicted\"] == 1]\n",
    "EmployeeWithPredictionAsResigned"
   ]
  },
  {
   "cell_type": "code",
   "execution_count": 101,
   "metadata": {},
   "outputs": [
    {
     "data": {
      "text/html": [
       "<div>\n",
       "<style scoped>\n",
       "    .dataframe tbody tr th:only-of-type {\n",
       "        vertical-align: middle;\n",
       "    }\n",
       "\n",
       "    .dataframe tbody tr th {\n",
       "        vertical-align: top;\n",
       "    }\n",
       "\n",
       "    .dataframe thead th {\n",
       "        text-align: right;\n",
       "    }\n",
       "</style>\n",
       "<table border=\"1\" class=\"dataframe\">\n",
       "  <thead>\n",
       "    <tr style=\"text-align: right;\">\n",
       "      <th></th>\n",
       "      <th>Predicted</th>\n",
       "      <th>EmployeeName</th>\n",
       "    </tr>\n",
       "  </thead>\n",
       "  <tbody>\n",
       "    <tr>\n",
       "      <th>734</th>\n",
       "      <td>1</td>\n",
       "      <td>Deon Hess</td>\n",
       "    </tr>\n",
       "    <tr>\n",
       "      <th>792</th>\n",
       "      <td>1</td>\n",
       "      <td>Dallas Arellano</td>\n",
       "    </tr>\n",
       "  </tbody>\n",
       "</table>\n",
       "</div>"
      ],
      "text/plain": [
       "     Predicted     EmployeeName\n",
       "734          1        Deon Hess\n",
       "792          1  Dallas Arellano"
      ]
     },
     "execution_count": 101,
     "metadata": {},
     "output_type": "execute_result"
    }
   ],
   "source": [
    "EmployeeWithPredictionAsResigned.join(df.iloc[:,[0]],how='inner')"
   ]
  },
  {
   "cell_type": "code",
   "execution_count": 102,
   "metadata": {},
   "outputs": [
    {
     "data": {
      "text/plain": [
       "Index(['EmployeeNo', 'ProfitCenter', 'EmployeeName', 'EmployeePosition',\n",
       "       'EmployeeLocation', 'PeopleGroup', 'EmployeeCategory', 'Supervisorname',\n",
       "       'JoinDate', 'CurrentStatus', 'TotalHours', 'TotalAvailableHours',\n",
       "       'WorkHours', 'LeaveHours', 'TrainingHours', 'BDHours', 'NCHours',\n",
       "       'Utilization'],\n",
       "      dtype='object')"
      ]
     },
     "execution_count": 102,
     "metadata": {},
     "output_type": "execute_result"
    }
   ],
   "source": [
    "dataset_to_pred.columns"
   ]
  },
  {
   "cell_type": "code",
   "execution_count": 103,
   "metadata": {},
   "outputs": [
    {
     "data": {
      "text/html": [
       "<div>\n",
       "<style scoped>\n",
       "    .dataframe tbody tr th:only-of-type {\n",
       "        vertical-align: middle;\n",
       "    }\n",
       "\n",
       "    .dataframe tbody tr th {\n",
       "        vertical-align: top;\n",
       "    }\n",
       "\n",
       "    .dataframe thead th {\n",
       "        text-align: right;\n",
       "    }\n",
       "</style>\n",
       "<table border=\"1\" class=\"dataframe\">\n",
       "  <thead>\n",
       "    <tr style=\"text-align: right;\">\n",
       "      <th></th>\n",
       "      <th>EmployeeNo</th>\n",
       "      <th>ProfitCenter</th>\n",
       "      <th>EmployeeName</th>\n",
       "      <th>EmployeePosition</th>\n",
       "      <th>EmployeeLocation</th>\n",
       "      <th>PeopleGroup</th>\n",
       "      <th>EmployeeCategory</th>\n",
       "      <th>Supervisorname</th>\n",
       "      <th>JoinDate</th>\n",
       "      <th>CurrentStatus</th>\n",
       "      <th>TotalHours</th>\n",
       "      <th>TotalAvailableHours</th>\n",
       "      <th>WorkHours</th>\n",
       "      <th>LeaveHours</th>\n",
       "      <th>TrainingHours</th>\n",
       "      <th>BDHours</th>\n",
       "      <th>NCHours</th>\n",
       "      <th>Utilization</th>\n",
       "    </tr>\n",
       "  </thead>\n",
       "  <tbody>\n",
       "    <tr>\n",
       "      <th>3</th>\n",
       "      <td>4</td>\n",
       "      <td>PC - 3</td>\n",
       "      <td>Barbee Joey</td>\n",
       "      <td>Level 2</td>\n",
       "      <td>Location 1</td>\n",
       "      <td>Client Service Staff</td>\n",
       "      <td>Resigned</td>\n",
       "      <td>Idalina Lauraine</td>\n",
       "      <td>30-09-2000</td>\n",
       "      <td>Resigned</td>\n",
       "      <td>1840.0</td>\n",
       "      <td>1640.5</td>\n",
       "      <td>273.0</td>\n",
       "      <td>196.0</td>\n",
       "      <td>3.5</td>\n",
       "      <td>1361.0</td>\n",
       "      <td>24.0</td>\n",
       "      <td>16.64</td>\n",
       "    </tr>\n",
       "    <tr>\n",
       "      <th>14</th>\n",
       "      <td>19</td>\n",
       "      <td>PC - 3</td>\n",
       "      <td>Cordey Sofia</td>\n",
       "      <td>Level 3</td>\n",
       "      <td>Location 1</td>\n",
       "      <td>Client Service Staff</td>\n",
       "      <td>Resigned</td>\n",
       "      <td>Cacilia Aimee</td>\n",
       "      <td>31-05-2006</td>\n",
       "      <td>Resigned</td>\n",
       "      <td>2080.0</td>\n",
       "      <td>1812.0</td>\n",
       "      <td>77.5</td>\n",
       "      <td>268.0</td>\n",
       "      <td>0.0</td>\n",
       "      <td>0.0</td>\n",
       "      <td>2030.0</td>\n",
       "      <td>4.28</td>\n",
       "    </tr>\n",
       "    <tr>\n",
       "      <th>38</th>\n",
       "      <td>45</td>\n",
       "      <td>PC - 5</td>\n",
       "      <td>Jenny Kasey</td>\n",
       "      <td>Level 7</td>\n",
       "      <td>Location 1</td>\n",
       "      <td>Client Service Staff</td>\n",
       "      <td>Resigned</td>\n",
       "      <td>Orsa Margeaux</td>\n",
       "      <td>31-01-2010</td>\n",
       "      <td>Resigned</td>\n",
       "      <td>440.0</td>\n",
       "      <td>392.0</td>\n",
       "      <td>420.0</td>\n",
       "      <td>48.0</td>\n",
       "      <td>0.0</td>\n",
       "      <td>0.0</td>\n",
       "      <td>0.0</td>\n",
       "      <td>107.14</td>\n",
       "    </tr>\n",
       "    <tr>\n",
       "      <th>43</th>\n",
       "      <td>50</td>\n",
       "      <td>PC - 2</td>\n",
       "      <td>Leta Evangeline</td>\n",
       "      <td>Level 5</td>\n",
       "      <td>Location 7</td>\n",
       "      <td>Client Service Staff</td>\n",
       "      <td>Resigned</td>\n",
       "      <td>Tallia Eyde</td>\n",
       "      <td>31-05-2010</td>\n",
       "      <td>Resigned</td>\n",
       "      <td>984.0</td>\n",
       "      <td>864.0</td>\n",
       "      <td>192.0</td>\n",
       "      <td>120.0</td>\n",
       "      <td>0.0</td>\n",
       "      <td>0.0</td>\n",
       "      <td>696.0</td>\n",
       "      <td>22.22</td>\n",
       "    </tr>\n",
       "    <tr>\n",
       "      <th>54</th>\n",
       "      <td>66</td>\n",
       "      <td>PC - 3</td>\n",
       "      <td>Leela Jsandye</td>\n",
       "      <td>Level 6</td>\n",
       "      <td>Location 2</td>\n",
       "      <td>Client Service Staff</td>\n",
       "      <td>Resigned</td>\n",
       "      <td>Vonni Bethena</td>\n",
       "      <td>31-01-2011</td>\n",
       "      <td>Resigned</td>\n",
       "      <td>1080.0</td>\n",
       "      <td>974.5</td>\n",
       "      <td>283.5</td>\n",
       "      <td>80.0</td>\n",
       "      <td>25.5</td>\n",
       "      <td>0.0</td>\n",
       "      <td>699.0</td>\n",
       "      <td>29.09</td>\n",
       "    </tr>\n",
       "  </tbody>\n",
       "</table>\n",
       "</div>"
      ],
      "text/plain": [
       "   EmployeeNo ProfitCenter     EmployeeName EmployeePosition EmployeeLocation  \\\n",
       "3           4       PC - 3      Barbee Joey          Level 2       Location 1   \n",
       "14         19       PC - 3     Cordey Sofia          Level 3       Location 1   \n",
       "38         45       PC - 5      Jenny Kasey          Level 7       Location 1   \n",
       "43         50       PC - 2  Leta Evangeline          Level 5       Location 7   \n",
       "54         66       PC - 3    Leela Jsandye          Level 6       Location 2   \n",
       "\n",
       "             PeopleGroup EmployeeCategory    Supervisorname    JoinDate  \\\n",
       "3   Client Service Staff         Resigned  Idalina Lauraine  30-09-2000   \n",
       "14  Client Service Staff         Resigned     Cacilia Aimee  31-05-2006   \n",
       "38  Client Service Staff         Resigned     Orsa Margeaux  31-01-2010   \n",
       "43  Client Service Staff         Resigned       Tallia Eyde  31-05-2010   \n",
       "54  Client Service Staff         Resigned     Vonni Bethena  31-01-2011   \n",
       "\n",
       "   CurrentStatus  TotalHours  TotalAvailableHours  WorkHours  LeaveHours  \\\n",
       "3       Resigned      1840.0               1640.5      273.0       196.0   \n",
       "14      Resigned      2080.0               1812.0       77.5       268.0   \n",
       "38      Resigned       440.0                392.0      420.0        48.0   \n",
       "43      Resigned       984.0                864.0      192.0       120.0   \n",
       "54      Resigned      1080.0                974.5      283.5        80.0   \n",
       "\n",
       "    TrainingHours  BDHours  NCHours  Utilization  \n",
       "3             3.5   1361.0     24.0        16.64  \n",
       "14            0.0      0.0   2030.0         4.28  \n",
       "38            0.0      0.0      0.0       107.14  \n",
       "43            0.0      0.0    696.0        22.22  \n",
       "54           25.5      0.0    699.0        29.09  "
      ]
     },
     "execution_count": 103,
     "metadata": {},
     "output_type": "execute_result"
    }
   ],
   "source": [
    "#dataset_to_pred_resigned is dataset which has employee with current status as Resigned\n",
    "dataset_to_pred_resigned = dataset_to_pred[dataset_to_pred.CurrentStatus == 'Resigned']\n",
    "dataset_to_pred_resigned.head()"
   ]
  },
  {
   "cell_type": "code",
   "execution_count": 104,
   "metadata": {},
   "outputs": [
    {
     "data": {
      "text/html": [
       "<div>\n",
       "<style scoped>\n",
       "    .dataframe tbody tr th:only-of-type {\n",
       "        vertical-align: middle;\n",
       "    }\n",
       "\n",
       "    .dataframe tbody tr th {\n",
       "        vertical-align: top;\n",
       "    }\n",
       "\n",
       "    .dataframe thead th {\n",
       "        text-align: right;\n",
       "    }\n",
       "</style>\n",
       "<table border=\"1\" class=\"dataframe\">\n",
       "  <thead>\n",
       "    <tr style=\"text-align: right;\">\n",
       "      <th></th>\n",
       "      <th>EmployeeNo</th>\n",
       "      <th>EmployeeName</th>\n",
       "      <th>Utilization</th>\n",
       "    </tr>\n",
       "  </thead>\n",
       "  <tbody>\n",
       "    <tr>\n",
       "      <th>3</th>\n",
       "      <td>4</td>\n",
       "      <td>Barbee Joey</td>\n",
       "      <td>16.64</td>\n",
       "    </tr>\n",
       "    <tr>\n",
       "      <th>14</th>\n",
       "      <td>19</td>\n",
       "      <td>Cordey Sofia</td>\n",
       "      <td>4.28</td>\n",
       "    </tr>\n",
       "    <tr>\n",
       "      <th>38</th>\n",
       "      <td>45</td>\n",
       "      <td>Jenny Kasey</td>\n",
       "      <td>107.14</td>\n",
       "    </tr>\n",
       "    <tr>\n",
       "      <th>43</th>\n",
       "      <td>50</td>\n",
       "      <td>Leta Evangeline</td>\n",
       "      <td>22.22</td>\n",
       "    </tr>\n",
       "    <tr>\n",
       "      <th>54</th>\n",
       "      <td>66</td>\n",
       "      <td>Leela Jsandye</td>\n",
       "      <td>29.09</td>\n",
       "    </tr>\n",
       "  </tbody>\n",
       "</table>\n",
       "</div>"
      ],
      "text/plain": [
       "   EmployeeNo     EmployeeName  Utilization\n",
       "3           4      Barbee Joey        16.64\n",
       "14         19     Cordey Sofia         4.28\n",
       "38         45      Jenny Kasey       107.14\n",
       "43         50  Leta Evangeline        22.22\n",
       "54         66    Leela Jsandye        29.09"
      ]
     },
     "execution_count": 104,
     "metadata": {},
     "output_type": "execute_result"
    }
   ],
   "source": [
    "dataset_to_pred_resigned = dataset_to_pred_resigned.iloc[:,[0,2,-1]]\n",
    "dataset_to_pred_resigned.head()"
   ]
  },
  {
   "cell_type": "code",
   "execution_count": 105,
   "metadata": {},
   "outputs": [
    {
     "data": {
      "text/html": [
       "<div>\n",
       "<style scoped>\n",
       "    .dataframe tbody tr th:only-of-type {\n",
       "        vertical-align: middle;\n",
       "    }\n",
       "\n",
       "    .dataframe tbody tr th {\n",
       "        vertical-align: top;\n",
       "    }\n",
       "\n",
       "    .dataframe thead th {\n",
       "        text-align: right;\n",
       "    }\n",
       "</style>\n",
       "<table border=\"1\" class=\"dataframe\">\n",
       "  <thead>\n",
       "    <tr style=\"text-align: right;\">\n",
       "      <th></th>\n",
       "      <th>EmployeeNo</th>\n",
       "      <th>EmployeeName</th>\n",
       "      <th>Utilization</th>\n",
       "    </tr>\n",
       "  </thead>\n",
       "  <tbody>\n",
       "    <tr>\n",
       "      <th>595</th>\n",
       "      <td>724</td>\n",
       "      <td>Roxanne Sarette</td>\n",
       "      <td>225.00</td>\n",
       "    </tr>\n",
       "    <tr>\n",
       "      <th>105</th>\n",
       "      <td>130</td>\n",
       "      <td>Cinnamon Adelaida</td>\n",
       "      <td>128.62</td>\n",
       "    </tr>\n",
       "    <tr>\n",
       "      <th>121</th>\n",
       "      <td>154</td>\n",
       "      <td>Enrika Vera</td>\n",
       "      <td>128.43</td>\n",
       "    </tr>\n",
       "    <tr>\n",
       "      <th>38</th>\n",
       "      <td>45</td>\n",
       "      <td>Jenny Kasey</td>\n",
       "      <td>107.14</td>\n",
       "    </tr>\n",
       "    <tr>\n",
       "      <th>485</th>\n",
       "      <td>602</td>\n",
       "      <td>Orelie Domeniga</td>\n",
       "      <td>107.03</td>\n",
       "    </tr>\n",
       "  </tbody>\n",
       "</table>\n",
       "</div>"
      ],
      "text/plain": [
       "    EmployeeNo       EmployeeName  Utilization\n",
       "595        724    Roxanne Sarette       225.00\n",
       "105        130  Cinnamon Adelaida       128.62\n",
       "121        154        Enrika Vera       128.43\n",
       "38          45        Jenny Kasey       107.14\n",
       "485        602    Orelie Domeniga       107.03"
      ]
     },
     "execution_count": 105,
     "metadata": {},
     "output_type": "execute_result"
    }
   ],
   "source": [
    "#Dataset of Resigned employees with highest Utilization, this is done to check whom to try to retain \n",
    "dataset_to_pred_resigned.sort_values(by=['Utilization'], ascending=False).head()"
   ]
  },
  {
   "cell_type": "code",
   "execution_count": null,
   "metadata": {},
   "outputs": [],
   "source": []
  },
  {
   "cell_type": "code",
   "execution_count": null,
   "metadata": {},
   "outputs": [],
   "source": []
  }
 ],
 "metadata": {
  "kernelspec": {
   "display_name": "Python 3",
   "language": "python",
   "name": "python3"
  },
  "language_info": {
   "codemirror_mode": {
    "name": "ipython",
    "version": 3
   },
   "file_extension": ".py",
   "mimetype": "text/x-python",
   "name": "python",
   "nbconvert_exporter": "python",
   "pygments_lexer": "ipython3",
   "version": "3.7.1"
  }
 },
 "nbformat": 4,
 "nbformat_minor": 2
}
